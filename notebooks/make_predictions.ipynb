{
 "cells": [
  {
   "cell_type": "markdown",
   "metadata": {},
   "source": [
    "### Imports"
   ]
  },
  {
   "cell_type": "code",
   "execution_count": 1,
   "metadata": {},
   "outputs": [],
   "source": [
    "import sys\n",
    "from pathlib import Path\n",
    "import os\n",
    "import matplotlib.pyplot as plt\n",
    "import seaborn as sns\n",
    "import pandas as pd\n",
    "import requests\n",
    "from bs4 import BeautifulSoup\n",
    "from datetime import datetime, timedelta\n"
   ]
  },
  {
   "cell_type": "code",
   "execution_count": 2,
   "metadata": {},
   "outputs": [],
   "source": [
    "project_root = Path(os.getcwd()).parent\n",
    "sys.path.append(str(project_root))"
   ]
  },
  {
   "cell_type": "code",
   "execution_count": 3,
   "metadata": {},
   "outputs": [],
   "source": [
    "from src.modeling.mcmc import (\n",
    "    load_data,\n",
    "    prepare_data,\n",
    "    build_model,\n",
    "    sample_model,\n",
    "    predict_match\n",
    ")"
   ]
  },
  {
   "cell_type": "markdown",
   "metadata": {},
   "source": [
    "### Set Gameweek"
   ]
  },
  {
   "cell_type": "code",
   "execution_count": 4,
   "metadata": {},
   "outputs": [],
   "source": [
    "# Set target gameweek\n",
    "target_gameweek = 12"
   ]
  },
  {
   "cell_type": "markdown",
   "metadata": {},
   "source": [
    "### Get Gameweek Matches"
   ]
  },
  {
   "cell_type": "code",
   "execution_count": 5,
   "metadata": {},
   "outputs": [
    {
     "name": "stdout",
     "output_type": "stream",
     "text": [
      "  Gameweek        Date         Home Team                 Away Team\n",
      "0       12  2024-11-23    Leicester-City                   Chelsea\n",
      "1       12  2024-11-23           Arsenal         Nottingham-Forest\n",
      "2       12  2024-11-23       Bournemouth  Brighton-and-Hove-Albion\n",
      "3       12  2024-11-23       Aston-Villa            Crystal-Palace\n",
      "4       12  2024-11-23           Everton                 Brentford\n",
      "5       12  2024-11-23            Fulham   Wolverhampton-Wanderers\n",
      "6       12  2024-11-23   Manchester-City         Tottenham-Hotspur\n",
      "7       12  2024-11-24       Southampton                 Liverpool\n",
      "8       12  2024-11-24      Ipswich-Town         Manchester-United\n",
      "9       12  2024-11-25  Newcastle-United           West-Ham-United\n"
     ]
    }
   ],
   "source": [
    "team_name_mapping = {\n",
    "        \"Nott'ham Forest\": \"Nottingham-Forest\",\n",
    "        \"Ipswich Town\": \"Ipswich-Town\",\n",
    "        \"Leicester City\": \"Leicester-City\",\n",
    "        \"Tottenham\": \"Tottenham-Hotspur\",\n",
    "        \"Manchester City\": \"Manchester-City\",\n",
    "        \"Newcastle Utd\": \"Newcastle-United\",\n",
    "        \"West Ham\": \"West-Ham-United\",\n",
    "        \"Aston Villa\": \"Aston-Villa\",\n",
    "        \"Brighton\": \"Brighton-and-Hove-Albion\",\n",
    "        \"Crystal Palace\": \"Crystal-Palace\",\n",
    "        \"Wolves\": \"Wolverhampton-Wanderers\",\n",
    "        \"Manchester Utd\": \"Manchester-United\",\n",
    "    }\n",
    "\n",
    "def get_premier_league_matches_by_gameweek(target_gameweek):\n",
    "    url = \"https://fbref.com/en/comps/9/schedule/Premier-League-Scores-and-Fixtures\"\n",
    "    response = requests.get(url)\n",
    "    soup = BeautifulSoup(response.content, \"html.parser\")\n",
    "    \n",
    "    # Find the table by ID\n",
    "    table = soup.find(\"table\", {\"id\": \"sched_2024-2025_9_1\"})\n",
    "    \n",
    "    matches = []\n",
    "    for row in table.find(\"tbody\").find_all(\"tr\"):\n",
    "        # Get and clean the gameweek cell text\n",
    "        gameweek_cell = row.find(\"th\", {\"data-stat\": \"gameweek\"})\n",
    "        gameweek_text = gameweek_cell.text.strip() if gameweek_cell else \"\"\n",
    "        \n",
    "        # Proceed only if gameweek matches the target\n",
    "        if gameweek_text.isdigit() and int(gameweek_text) == target_gameweek:\n",
    "            date = row.find(\"td\", {\"data-stat\": \"date\"}).find(\"a\").text\n",
    "            home_team = row.find(\"td\", {\"data-stat\": \"home_team\"}).text\n",
    "            away_team = row.find(\"td\", {\"data-stat\": \"away_team\"}).text\n",
    "            \n",
    "            # Map team names using the team_name_mapping\n",
    "            home_team = team_name_mapping.get(home_team, home_team)\n",
    "            away_team = team_name_mapping.get(away_team, away_team)\n",
    "\n",
    "            matches.append([gameweek_text, date, home_team, away_team])\n",
    "    \n",
    "    return pd.DataFrame(matches, columns=[\"Gameweek\", \"Date\", \"Home Team\", \"Away Team\"])\n",
    "\n",
    "gameweek_matches = get_premier_league_matches_by_gameweek(target_gameweek)\n",
    "if gameweek_matches is not None:\n",
    "    print(gameweek_matches)\n"
   ]
  },
  {
   "cell_type": "markdown",
   "metadata": {},
   "source": [
    "### Model"
   ]
  },
  {
   "cell_type": "code",
   "execution_count": 6,
   "metadata": {},
   "outputs": [
    {
     "name": "stdout",
     "output_type": "stream",
     "text": [
      "Loaded 220 rows from match_logs\n"
     ]
    },
    {
     "name": "stderr",
     "output_type": "stream",
     "text": [
      "Auto-assigning NUTS sampler...\n",
      "Initializing NUTS using jitter+adapt_diag...\n",
      "Multiprocess sampling (4 chains in 4 jobs)\n",
      "NUTS: [home_advantage, attack, defense, beta_home_xG, beta_away_xG, beta_home_possession, beta_away_possession, recent_form_coefficient]\n"
     ]
    },
    {
     "data": {
      "application/vnd.jupyter.widget-view+json": {
       "model_id": "63f3d8c92c8e49a685f894d9101bf274",
       "version_major": 2,
       "version_minor": 0
      },
      "text/plain": [
       "Output()"
      ]
     },
     "metadata": {},
     "output_type": "display_data"
    },
    {
     "data": {
      "text/html": [
       "<pre style=\"white-space:pre;overflow-x:auto;line-height:normal;font-family:Menlo,'DejaVu Sans Mono',consolas,'Courier New',monospace\"></pre>\n"
      ],
      "text/plain": []
     },
     "metadata": {},
     "output_type": "display_data"
    },
    {
     "name": "stderr",
     "output_type": "stream",
     "text": [
      "Sampling 4 chains for 1_000 tune and 2_000 draw iterations (4_000 + 8_000 draws total) took 3 seconds.\n"
     ]
    }
   ],
   "source": [
    "# Load and prepare data\n",
    "df = load_data()\n",
    "data = prepare_data(df)\n",
    "\n",
    "# Build and sample from model\n",
    "model = build_model(data)\n",
    "trace = sample_model(model)"
   ]
  },
  {
   "cell_type": "markdown",
   "metadata": {},
   "source": [
    "### Get Predictions"
   ]
  },
  {
   "cell_type": "code",
   "execution_count": 7,
   "metadata": {},
   "outputs": [
    {
     "data": {
      "text/html": [
       "<div>\n",
       "<style scoped>\n",
       "    .dataframe tbody tr th:only-of-type {\n",
       "        vertical-align: middle;\n",
       "    }\n",
       "\n",
       "    .dataframe tbody tr th {\n",
       "        vertical-align: top;\n",
       "    }\n",
       "\n",
       "    .dataframe thead th {\n",
       "        text-align: right;\n",
       "    }\n",
       "</style>\n",
       "<table border=\"1\" class=\"dataframe\">\n",
       "  <thead>\n",
       "    <tr style=\"text-align: right;\">\n",
       "      <th></th>\n",
       "      <th>Home Team</th>\n",
       "      <th>Away Team</th>\n",
       "      <th>Home Win Probability</th>\n",
       "      <th>Draw Probability</th>\n",
       "      <th>Away Win Probability</th>\n",
       "      <th>Expected Home Goals</th>\n",
       "      <th>Expected Away Goals</th>\n",
       "    </tr>\n",
       "  </thead>\n",
       "  <tbody>\n",
       "    <tr>\n",
       "      <th>0</th>\n",
       "      <td>Leicester-City</td>\n",
       "      <td>Chelsea</td>\n",
       "      <td>0.332000</td>\n",
       "      <td>0.194750</td>\n",
       "      <td>0.473250</td>\n",
       "      <td>1.726235</td>\n",
       "      <td>2.157640</td>\n",
       "    </tr>\n",
       "    <tr>\n",
       "      <th>1</th>\n",
       "      <td>Arsenal</td>\n",
       "      <td>Nottingham-Forest</td>\n",
       "      <td>0.470250</td>\n",
       "      <td>0.252000</td>\n",
       "      <td>0.277750</td>\n",
       "      <td>1.514715</td>\n",
       "      <td>1.113619</td>\n",
       "    </tr>\n",
       "    <tr>\n",
       "      <th>2</th>\n",
       "      <td>Bournemouth</td>\n",
       "      <td>Brighton-and-Hove-Albion</td>\n",
       "      <td>0.375625</td>\n",
       "      <td>0.237875</td>\n",
       "      <td>0.386500</td>\n",
       "      <td>1.434536</td>\n",
       "      <td>1.458887</td>\n",
       "    </tr>\n",
       "    <tr>\n",
       "      <th>3</th>\n",
       "      <td>Aston-Villa</td>\n",
       "      <td>Crystal-Palace</td>\n",
       "      <td>0.499875</td>\n",
       "      <td>0.285875</td>\n",
       "      <td>0.214250</td>\n",
       "      <td>1.360182</td>\n",
       "      <td>0.738601</td>\n",
       "    </tr>\n",
       "    <tr>\n",
       "      <th>4</th>\n",
       "      <td>Everton</td>\n",
       "      <td>Brentford</td>\n",
       "      <td>0.391500</td>\n",
       "      <td>0.221625</td>\n",
       "      <td>0.386875</td>\n",
       "      <td>1.664283</td>\n",
       "      <td>1.638222</td>\n",
       "    </tr>\n",
       "    <tr>\n",
       "      <th>5</th>\n",
       "      <td>Fulham</td>\n",
       "      <td>Wolverhampton-Wanderers</td>\n",
       "      <td>0.633625</td>\n",
       "      <td>0.180000</td>\n",
       "      <td>0.186375</td>\n",
       "      <td>2.461830</td>\n",
       "      <td>1.198340</td>\n",
       "    </tr>\n",
       "    <tr>\n",
       "      <th>6</th>\n",
       "      <td>Manchester-City</td>\n",
       "      <td>Tottenham-Hotspur</td>\n",
       "      <td>0.545625</td>\n",
       "      <td>0.214500</td>\n",
       "      <td>0.239875</td>\n",
       "      <td>1.992382</td>\n",
       "      <td>1.202165</td>\n",
       "    </tr>\n",
       "    <tr>\n",
       "      <th>7</th>\n",
       "      <td>Southampton</td>\n",
       "      <td>Liverpool</td>\n",
       "      <td>0.124375</td>\n",
       "      <td>0.248125</td>\n",
       "      <td>0.627500</td>\n",
       "      <td>0.542276</td>\n",
       "      <td>1.623342</td>\n",
       "    </tr>\n",
       "    <tr>\n",
       "      <th>8</th>\n",
       "      <td>Ipswich-Town</td>\n",
       "      <td>Manchester-United</td>\n",
       "      <td>0.320625</td>\n",
       "      <td>0.294875</td>\n",
       "      <td>0.384500</td>\n",
       "      <td>1.060373</td>\n",
       "      <td>1.139111</td>\n",
       "    </tr>\n",
       "    <tr>\n",
       "      <th>9</th>\n",
       "      <td>Newcastle-United</td>\n",
       "      <td>West-Ham-United</td>\n",
       "      <td>0.556500</td>\n",
       "      <td>0.230875</td>\n",
       "      <td>0.212625</td>\n",
       "      <td>1.752529</td>\n",
       "      <td>0.916287</td>\n",
       "    </tr>\n",
       "  </tbody>\n",
       "</table>\n",
       "</div>"
      ],
      "text/plain": [
       "          Home Team                 Away Team  Home Win Probability  \\\n",
       "0    Leicester-City                   Chelsea              0.332000   \n",
       "1           Arsenal         Nottingham-Forest              0.470250   \n",
       "2       Bournemouth  Brighton-and-Hove-Albion              0.375625   \n",
       "3       Aston-Villa            Crystal-Palace              0.499875   \n",
       "4           Everton                 Brentford              0.391500   \n",
       "5            Fulham   Wolverhampton-Wanderers              0.633625   \n",
       "6   Manchester-City         Tottenham-Hotspur              0.545625   \n",
       "7       Southampton                 Liverpool              0.124375   \n",
       "8      Ipswich-Town         Manchester-United              0.320625   \n",
       "9  Newcastle-United           West-Ham-United              0.556500   \n",
       "\n",
       "   Draw Probability  Away Win Probability  Expected Home Goals  \\\n",
       "0          0.194750              0.473250             1.726235   \n",
       "1          0.252000              0.277750             1.514715   \n",
       "2          0.237875              0.386500             1.434536   \n",
       "3          0.285875              0.214250             1.360182   \n",
       "4          0.221625              0.386875             1.664283   \n",
       "5          0.180000              0.186375             2.461830   \n",
       "6          0.214500              0.239875             1.992382   \n",
       "7          0.248125              0.627500             0.542276   \n",
       "8          0.294875              0.384500             1.060373   \n",
       "9          0.230875              0.212625             1.752529   \n",
       "\n",
       "   Expected Away Goals  \n",
       "0             2.157640  \n",
       "1             1.113619  \n",
       "2             1.458887  \n",
       "3             0.738601  \n",
       "4             1.638222  \n",
       "5             1.198340  \n",
       "6             1.202165  \n",
       "7             1.623342  \n",
       "8             1.139111  \n",
       "9             0.916287  "
      ]
     },
     "execution_count": 7,
     "metadata": {},
     "output_type": "execute_result"
    }
   ],
   "source": [
    "# Set matchups\n",
    "weekend_matches = [\n",
    "    {'home_team': match['Home Team'], 'away_team': match['Away Team']}\n",
    "    for match in gameweek_matches.to_dict(orient='records')\n",
    "]\n",
    "\n",
    "# Store predictions\n",
    "predictions = []\n",
    "\n",
    "# Loop through each matchup and predict\n",
    "for match in weekend_matches:\n",
    "    prediction = predict_match(\n",
    "        trace=trace,\n",
    "        home_team=match['home_team'],\n",
    "        away_team=match['away_team'],\n",
    "        data=data\n",
    "    )\n",
    "    predictions.append({\n",
    "        'Home Team': match['home_team'],\n",
    "        'Away Team': match['away_team'],\n",
    "        'Home Win Probability': prediction['home_win_prob'],\n",
    "        'Draw Probability': prediction['draw_prob'],\n",
    "        'Away Win Probability': prediction['away_win_prob'],\n",
    "        'Expected Home Goals': prediction['expected_home_goals'],\n",
    "        'Expected Away Goals': prediction['expected_away_goals']\n",
    "    })\n",
    "\n",
    "# Convert predictions to DataFrame for better visualization\n",
    "predictions_df = pd.DataFrame(predictions)\n",
    "\n",
    "# Display predictions\n",
    "predictions_df"
   ]
  }
 ],
 "metadata": {
  "kernelspec": {
   "display_name": "Python 3",
   "language": "python",
   "name": "python3"
  },
  "language_info": {
   "codemirror_mode": {
    "name": "ipython",
    "version": 3
   },
   "file_extension": ".py",
   "mimetype": "text/x-python",
   "name": "python",
   "nbconvert_exporter": "python",
   "pygments_lexer": "ipython3",
   "version": "3.12.4"
  }
 },
 "nbformat": 4,
 "nbformat_minor": 2
}
