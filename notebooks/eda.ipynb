{
 "cells": [
  {
   "cell_type": "code",
   "execution_count": 2,
   "metadata": {},
   "outputs": [],
   "source": [
    "import sys\n",
    "from pathlib import Path\n",
    "import os\n",
    "\n",
    "# Add the project root directory to the Python path\n",
    "project_root = Path(os.getcwd()).parent\n",
    "sys.path.append(str(project_root))"
   ]
  },
  {
   "cell_type": "markdown",
   "metadata": {},
   "source": [
    "## Imports"
   ]
  },
  {
   "cell_type": "code",
   "execution_count": 3,
   "metadata": {},
   "outputs": [],
   "source": [
    "import pandas as pd\n",
    "import numpy as np\n",
    "import matplotlib.pyplot as plt\n",
    "import seaborn as sns\n",
    "from src.data_loader import load_from_database\n",
    "from src.visualization_utils import (\n",
    "    get_team_color, \n",
    "    create_plotly_layout, \n",
    "    TEAM_COLORS,\n",
    "    COLOR_PALETTES,\n",
    "    FIGURE_SIZES\n",
    ")\n",
    "import plotly.express as px\n",
    "from plotly.subplots import make_subplots\n",
    "import plotly.graph_objects as go\n",
    "%matplotlib inline\n"
   ]
  },
  {
   "cell_type": "markdown",
   "metadata": {},
   "source": [
    "## Load Data"
   ]
  },
  {
   "cell_type": "code",
   "execution_count": 4,
   "metadata": {},
   "outputs": [
    {
     "name": "stdout",
     "output_type": "stream",
     "text": [
      "Loaded 220 rows from match_logs\n"
     ]
    }
   ],
   "source": [
    "# Load data from database\n",
    "df = load_from_database('match_logs')"
   ]
  },
  {
   "cell_type": "markdown",
   "metadata": {},
   "source": [
    "## Basic Descriptive Statistics"
   ]
  },
  {
   "cell_type": "code",
   "execution_count": 5,
   "metadata": {},
   "outputs": [],
   "source": [
    "pd.set_option('display.max_columns', None)\n",
    "pd.set_option('display.width', None)"
   ]
  },
  {
   "cell_type": "code",
   "execution_count": 6,
   "metadata": {},
   "outputs": [
    {
     "name": "stdout",
     "output_type": "stream",
     "text": [
      "Dataset Shape: (220, 70)\n",
      "\n",
      "Dataset Info:\n",
      "<class 'pandas.core.frame.DataFrame'>\n",
      "RangeIndex: 220 entries, 0 to 219\n",
      "Data columns (total 70 columns):\n",
      " #   Column                                  Non-Null Count  Dtype  \n",
      "---  ------                                  --------------  -----  \n",
      " 0   date                                    220 non-null    object \n",
      " 1   team                                    220 non-null    object \n",
      " 2   venue                                   220 non-null    object \n",
      " 3   opponent                                220 non-null    object \n",
      " 4   time                                    220 non-null    object \n",
      " 5   round                                   220 non-null    object \n",
      " 6   day                                     220 non-null    object \n",
      " 7   result                                  220 non-null    object \n",
      " 8   goals_for                               220 non-null    int64  \n",
      " 9   goals_against                           220 non-null    int64  \n",
      " 10  shots                                   220 non-null    int64  \n",
      " 11  shots_on_target                         220 non-null    int64  \n",
      " 12  shots_on_target_percentage              220 non-null    float64\n",
      " 13  goals_per_shot                          220 non-null    float64\n",
      " 14  goals_per_shot_on_target                218 non-null    float64\n",
      " 15  free_kick_shots                         220 non-null    int64  \n",
      " 16  penalty_kicks_made                      220 non-null    int64  \n",
      " 17  shooting_xG                             220 non-null    float64\n",
      " 18  expected_goals_non_penalty              220 non-null    float64\n",
      " 19  expected_goals_per_shot                 220 non-null    float64\n",
      " 20  goals_minus_expected_goals              220 non-null    float64\n",
      " 21  non_penalty_goals_minus_expected_goals  220 non-null    float64\n",
      " 22  shots_on_target_against                 220 non-null    int64  \n",
      " 23  saves                                   220 non-null    int64  \n",
      " 24  save_percentage                         218 non-null    float64\n",
      " 25  clean_sheets                            220 non-null    int64  \n",
      " 26  expected_goals_plus_minus               220 non-null    float64\n",
      " 27  crosses_stopped_percentage              220 non-null    float64\n",
      " 28  passing_Cmp                             220 non-null    int64  \n",
      " 29  passing_Att                             220 non-null    int64  \n",
      " 30  passes_completed_percentage             220 non-null    float64\n",
      " 31  total_passing_distance                  220 non-null    int64  \n",
      " 32  progressive_passing_distance            220 non-null    int64  \n",
      " 33  assists                                 220 non-null    int64  \n",
      " 34  expected_assisted_goals                 220 non-null    float64\n",
      " 35  expected_assists                        220 non-null    float64\n",
      " 36  key_passes                              220 non-null    int64  \n",
      " 37  passes_final_third                      220 non-null    int64  \n",
      " 38  passes_into_penalty_area                220 non-null    int64  \n",
      " 39  crosses_into_penalty_area               220 non-null    int64  \n",
      " 40  progressive_passes                      220 non-null    int64  \n",
      " 41  shot_creating_actions                   220 non-null    int64  \n",
      " 42  live_ball_gca                           220 non-null    int64  \n",
      " 43  dead_ball_gca                           220 non-null    int64  \n",
      " 44  take_on_gca                             220 non-null    int64  \n",
      " 45  shot_gca                                220 non-null    int64  \n",
      " 46  fouls_drawn_gca                         220 non-null    int64  \n",
      " 47  defensive_actions_gca                   220 non-null    int64  \n",
      " 48  goal_creating_actions                   220 non-null    int64  \n",
      " 49  tackles                                 220 non-null    int64  \n",
      " 50  tackles_won                             220 non-null    int64  \n",
      " 51  blocks                                  220 non-null    int64  \n",
      " 52  shots_blocked                           220 non-null    int64  \n",
      " 53  passes_blocked                          220 non-null    int64  \n",
      " 54  interceptions                           220 non-null    int64  \n",
      " 55  clearances                              220 non-null    int64  \n",
      " 56  defensive_errors                        220 non-null    int64  \n",
      " 57  possession                              220 non-null    int64  \n",
      " 58  touches                                 220 non-null    int64  \n",
      " 59  attacking_third_touches                 220 non-null    int64  \n",
      " 60  penalty_area_touches                    220 non-null    int64  \n",
      " 61  take_ons_attempted                      220 non-null    int64  \n",
      " 62  successful_take_ons                     220 non-null    int64  \n",
      " 63  successful_take_ons_%                   220 non-null    float64\n",
      " 64  carries                                 220 non-null    int64  \n",
      " 65  total_carrying_distance                 220 non-null    int64  \n",
      " 66  progressive_carrying_distance           220 non-null    int64  \n",
      " 67  progressive_carries                     220 non-null    int64  \n",
      " 68  carries_into_final_third                220 non-null    int64  \n",
      " 69  dispossessed                            220 non-null    int64  \n",
      "dtypes: float64(15), int64(47), object(8)\n",
      "memory usage: 120.4+ KB\n"
     ]
    }
   ],
   "source": [
    "print(\"Dataset Shape:\", df.shape)\n",
    "print(\"\\nDataset Info:\")\n",
    "df.info()"
   ]
  },
  {
   "cell_type": "code",
   "execution_count": 20,
   "metadata": {},
   "outputs": [
    {
     "name": "stdout",
     "output_type": "stream",
     "text": [
      "\n",
      "First few rows:\n",
      "               date            team venue        opponent  time        round day result  goals_for  goals_against  shots  shots_on_target  shots_on_target_percentage  goals_per_shot  goals_per_shot_on_target  free_kick_shots  penalty_kicks_made  shooting_xG  expected_goals_non_penalty  expected_goals_per_shot  goals_minus_expected_goals  non_penalty_goals_minus_expected_goals  shots_on_target_against  saves  save_percentage  clean_sheets  expected_goals_plus_minus  crosses_stopped_percentage  passing_Cmp  passing_Att  passes_completed_percentage  total_passing_distance  progressive_passing_distance  assists  expected_assisted_goals  expected_assists  key_passes  passes_final_third  passes_into_penalty_area  crosses_into_penalty_area  progressive_passes  shot_creating_actions  live_ball_gca  dead_ball_gca  take_on_gca  shot_gca  fouls_drawn_gca  defensive_actions_gca  goal_creating_actions  tackles  tackles_won  blocks  shots_blocked  passes_blocked  interceptions  clearances  defensive_errors  possession  touches  attacking_third_touches  penalty_area_touches  take_ons_attempted  successful_take_ons  successful_take_ons_%  carries  total_carrying_distance  progressive_carrying_distance  progressive_carries  carries_into_final_third  dispossessed\n",
      "2024-08-17 00:00:00       Liverpool  Away    Ipswich Town 12:30  Matchweek 1 Sat      W          2              0     18                5                        27.8            0.11                      0.40                0                   0          2.6                         2.6                     0.15                        -0.6                                    -0.6                        2      2            100.0             1                        0.2                         0.0           46           82                         56.1                    8751                          3005        1                      2.0               2.4          12                  35                        10                          1                  39                     29              4              0            0         0                0                      0                      4        5            4      14              2              12              5          17                 1          62      720                      200                    46                  23                   11                   47.8      407                     1886                            974                   25                        13             9\n",
      "2024-08-25 00:00:00       Liverpool  Home       Brentford 16:30  Matchweek 2 Sun      W          2              0     19                8                        42.1            0.11                      0.25                1                   0          2.5                         2.5                     0.14                        -0.5                                    -0.5                        2      2            100.0             1                        0.8                         0.0           39           71                         54.9                    9545                          3284        2                      2.5               1.6          17                  49                        18                          2                  59                     35              3              0            0         0                0                      0                      3       13           10      14              3              11              7          12                 0          62      741                      222                    40                  16                    8                   50.0      514                     2388                           1188                   25                        18             5\n",
      "2024-09-01 00:00:00       Liverpool  Away  Manchester Utd 16:00  Matchweek 3 Sun      W          3              0     11                3                        27.3            0.27                      1.00                0                   0          1.8                         1.8                     0.16                         1.2                                     1.2                        3      3            100.0             1                        0.6                         7.1           22           46                         47.8                    6917                          2308        3                      1.4               1.1           9                  21                         8                          3                  30                     21              6              0            0         0                0                      0                      6       13           17      13              0              13             10          28                 0          47      615                      139                    26                  20                    5                   25.0      282                     1688                            934                   20                        16            18\n",
      "2024-09-14 00:00:00       Liverpool  Home Nott'ham Forest 15:00  Matchweek 4 Sat      L          0              1     14                5                        35.7            0.00                      0.00                0                   0          0.9                         0.9                     0.07                        -0.9                                    -0.9                        3      2             66.7             0                       -0.3                         0.0           39           68                         57.4                    8838                          3200        0                      0.9               1.4          13                  51                         9                          3                  63                     27              0              0            0         0                0                      0                      0        5            8       5              0               5             11          16                 0          68      760                      199                    31                  20                    6                   30.0      465                     2433                           1306                   27                        16             9\n",
      "2024-09-21 00:00:00       Liverpool  Home     Bournemouth 15:00  Matchweek 5 Sat      W          3              0     19               12                        63.2            0.16                      0.25                0                   0          2.0                         2.0                     0.11                         1.0                                     1.0                        6      6            100.0             1                        1.5                         5.9           30           54                         55.6                    8589                          3369        3                      1.9               1.0          18                  40                        12                          1                  39                     38              6              0            0         0                0                      0                      6       12           14      10              4               6              6          24                 1          58      737                      151                    28                  21                   16                   76.2      526                     2435                           1191                   30                        16            15\n",
      "2024-09-28 00:00:00       Liverpool  Away          Wolves 17:30  Matchweek 6 Sat      W          2              1      9                5                        55.6            0.11                      0.20                1                   1          2.5                         1.7                     0.19                        -0.5                                    -0.7                        3      2             66.7             0                        0.1                         7.7           30           61                         49.2                    8170                          2729        1                      1.1               1.2           7                  30                        10                          3                  42                     16              3              0            0         0                1                      0                      4        4            9      11              2               9              7          12                 1          55      655                      162                    35                  12                    4                   33.3      317                     1753                            887                   20                        16             7\n",
      "2024-10-05 00:00:00       Liverpool  Away  Crystal Palace 12:30  Matchweek 7 Sat      W          1              0     16                4                        25.0            0.06                      0.25                0                   0          1.4                         1.4                     0.09                        -0.4                                    -0.4                        5      5            100.0             1                        0.0                         0.0           50           85                         58.8                   10190                          3431        1                      1.4               1.5          16                  46                         8                          0                  54                     31              2              0            0         0                0                      0                      2        7            6       4              0               4             13          15                 0          68      778                      199                    26                   9                    8                   88.9      448                     2420                           1222                   20                        12             8\n",
      "2024-10-20 00:00:00       Liverpool  Home         Chelsea 16:30  Matchweek 8 Sun      W          2              1      8                4                        50.0            0.13                      0.25                1                   1          1.9                         1.1                     0.14                         0.1                                    -0.1                        2      1             50.0             0                       -0.1                         0.0           27           72                         37.5                    5920                          2024        1                      1.0               0.3           6                  22                         3                          1                  29                     17              2              0            0         1                1                      0                      4       17           18      11              4               7              6          18                 0          43      525                       83                    15                  10                    5                   50.0      284                     1218                            555                   10                         6             8\n",
      "2024-10-27 00:00:00       Liverpool  Away         Arsenal 16:30  Matchweek 9 Sun      D          2              2      9                4                        44.4            0.22                      0.50                0                   0          0.8                         0.8                     0.09                         1.2                                     1.2                        3      1             33.3             0                       -0.3                         0.0           29           73                         39.7                    7165                          2295        2                      0.7               1.1           6                  31                         7                          1                  28                     15              3              1            0         0                0                      0                      4        6            9       9              2               7              5          22                 0          55      605                      158                    23                  18                    9                   50.0      339                     1313                            637                    9                         7            13\n",
      "2024-11-02 00:00:00       Liverpool  Home        Brighton 15:00 Matchweek 10 Sat      W          2              1     16                8                        50.0            0.13                      0.25                0                   0          1.6                         1.6                     0.10                         0.4                                     0.4                        5      4             80.0             0                       -0.5                         0.0           33           66                         50.0                    6831                          2530        2                      1.3               1.0          12                  30                        11                          2                  37                     30              4              0            0         0                0                      0                      4       17           19      12              4               8             10          15                 0          49      602                      116                    28                  16                    8                   50.0      315                     1627                            826                   17                         7            10\n",
      "2024-11-09 00:00:00       Liverpool  Home     Aston Villa 20:00 Matchweek 11 Sat      W          2              0     14                5                        35.7            0.14                      0.40                0                   0          2.0                         2.0                     0.14                         0.0                                     0.0                        2      2            100.0             1                        0.6                        11.8           39           61                         63.9                    9391                          3109        1                      1.3               1.0          12                  38                        10                          1                  43                     23              1              0            0         0                0                      0                      1        3            9      11              2               9              7          19                 1          62      747                      152                    29                  15                    9                   60.0      423                     2213                           1099                   21                        18            10\n",
      "2024-08-18 00:00:00 Manchester-City  Away         Chelsea 16:30  Matchweek 1 Sun      W          2              0     11                5                        45.5            0.18                      0.40                0                   0          0.8                         0.8                     0.07                         1.2                                     1.2                        3      3            100.0             1                        0.7                         8.3           27           46                         58.7                    8217                          2491        1                      0.6               0.9           8                  29                         6                          0                  32                     19              1              0            2         0                0                      0                      3        7            9       6              4               2             10          18                 0          52      664                      178                    24                  30                   15                   50.0      385                     2736                           1620                   41                        31            12\n",
      "2024-08-24 00:00:00 Manchester-City  Home    Ipswich Town 15:00  Matchweek 2 Sat      W          4              1     13                4                        30.8            0.23                      0.75                1                   1          3.3                         2.6                     0.20                         0.7                                     0.4                        1      0              0.0             0                       -0.7                         0.0           42           49                         85.7                   11491                          2774        2                      2.3               1.9          11                  61                        18                          4                  60                     28              5              0            1         0                1                      1                      8        6            6       8              0               8              6           9                 0          75      884                      401                    47                  20                   11                   55.0      501                     2654                           1510                   27                        27            10\n",
      "2024-08-31 00:00:00 Manchester-City  Away        West Ham 17:30  Matchweek 3 Sat      W          3              1     23                8                        34.8            0.13                      0.38                1                   0          3.0                         3.0                     0.13                         0.0                                     0.0                        2      2             50.0             0                        0.2                         0.0           58           70                         82.9                   11460                          3117        3                      2.7               2.7          20                  67                        19                          1                  77                     42              4              0            1         0                0                      0                      5        5           12      14              3              11              7          19                 1          67      857                      303                    57                  19                   12                   63.2      461                     2857                           1695                   39                        20             8\n",
      "2024-09-14 00:00:00 Manchester-City  Home       Brentford 15:00  Matchweek 4 Sat      W          2              1     18                7                        38.9            0.11                      0.29                0                   0          2.1                         2.1                     0.12                        -0.1                                    -0.1                        5      4             80.0             0                        1.1                         0.0           38           53                         71.7                    8423                          2436        1                      2.0               1.5          16                  35                        19                          0                  55                     32              2              0            0         0                0                      0                      2        6            5       8              1               7              5          13                 3          54      671                      329                    51                  14                    3                   21.4      341                     2101                           1111                   25                        22            12\n",
      "2024-09-22 00:00:00 Manchester-City  Home         Arsenal 16:30  Matchweek 5 Sun      D          2              2     33               11                        33.3            0.06                      0.18                1                   0          2.1                         2.1                     0.07                        -0.1                                    -0.1                        3      1             33.3             0                       -0.5                         0.0           32           51                         62.7                    9984                          2410        1                      1.7               2.9          27                  44                        16                          6                  54                     64              1              0            1         1                0                      0                      3        4            5       2              0               2              3           9                 1          77      847                      504                    53                  21                   10                   47.6      601                     3387                           2010                   59                        38             7\n",
      "2024-09-28 00:00:00 Manchester-City  Away   Newcastle Utd 12:30  Matchweek 6 Sat      D          1              1     16                6                        37.5            0.06                      0.17                0                   0          0.9                         0.9                     0.06                         0.1                                     0.1                        4      3            100.0             0                        0.1                         0.0           28           60                         46.7                    7944                          2334        1                      0.8               1.4          13                  31                        12                          0                  40                     31              1              0            1         0                0                      0                      2        2           11       8              3               5              7          21                 0          62      705                      240                    38                  24                   13                   54.2      493                     2605                           1395                   31                        22             8\n",
      "2024-10-05 00:00:00 Manchester-City  Home          Fulham 15:00  Matchweek 7 Sat      W          3              2     20                7                        35.0            0.15                      0.43                1                   0          1.6                         1.6                     0.08                         1.4                                     1.4                        4      2             50.0             0                        0.5                         0.0           27           35                         77.1                    9069                          2539        2                      1.3               1.3          14                  42                        10                          2                  58                     32              4              0            0         0                0                      1                      5        6            7      11              4               7              4          20                 1          58      770                      278                    39                  28                   11                   39.3      506                     2724                           1480                   31                        16            10\n",
      "2024-10-20 00:00:00 Manchester-City  Away          Wolves 14:00  Matchweek 8 Sun      W          2              1     22                7                        31.8            0.09                      0.29                2                   0          1.6                         1.6                     0.07                         0.4                                     0.4                        2      1             50.0             0                        0.3                         0.0           25           42                         59.5                   10077                          2543        2                      1.5               2.5          19                  57                        26                          1                 100                     42              2              1            0         1                0                      0                      4        4           10       6              0               6              3           5                 0          77      890                      546                    80                  30                   10                   33.3      601                     3597                           2182                   65                        42            14\n",
      "2024-10-26 00:00:00 Manchester-City  Home     Southampton 15:00  Matchweek 9 Sat      W          1              0     22                7                        31.8            0.05                      0.14                0                   0          2.9                         2.9                     0.13                        -1.9                                    -1.9                        2      2            100.0             1                        0.1                         0.0           28           47                         59.6                    9155                          2147        1                      2.8               2.7          19                  48                        22                          3                  65                     40              2              0            0         0                0                      0                      2        9            7       6              1               5             10          14                 0          57      735                      418                    52                  12                    9                   75.0      526                     2460                           1383                   38                        20            12\n",
      "2024-11-02 00:00:00 Manchester-City  Away     Bournemouth 15:00 Matchweek 10 Sat      L          1              2     18                4                        22.2            0.06                      0.25                0                   0          1.6                         1.6                     0.09                        -0.6                                    -0.6                        6      4             66.7             0                        0.4                         8.3           43           70                         61.4                    9282                          2753        1                      1.0               1.9          13                  38                        13                          4                  47                     34              2              0            0         0                0                      0                      2        5            7       9              2               7              5           9                 1          64      748                      276                    44                  17                    6                   35.3      510                     2751                           1497                   31                        14            10\n",
      "2024-11-09 00:00:00 Manchester-City  Away        Brighton 17:30 Matchweek 11 Sat      L          1              2     15                6                        40.0            0.07                      0.17                0                   0          2.1                         2.1                     0.18                        -1.1                                    -1.1                        4      2             50.0             0                       -0.4                        33.3           33           51                         64.7                   10469                          3218        0                      1.9               0.7          13                  45                         8                          2                  52                     27              0              0            0         1                0                      0                      1        5            5       7              2               5              4           8                 0          60      773                      150                    26                  25                   15                   60.0      467                     2589                           1237                   24                        15            12\n",
      "2024-08-18 00:00:00         Chelsea  Home Manchester City 16:30  Matchweek 1 Sun      L          0              2     10                3                        30.0            0.00                      0.00                0                   0          1.0                         1.0                     0.10                        -1.0                                    -1.0                        5      3             60.0             0                       -1.2                        16.7           29           53                         54.7                    7768                          2625        0                      1.0               0.9           9                  34                        11                          5                  26                     20              0              0            0         0                0                      0                      0        8           14      10              3               7             10          13                 1          48      629                      175                    24                  11                    4                   36.4      370                     1673                            827                   16                         6             9\n",
      "2024-08-25 00:00:00         Chelsea  Away          Wolves 14:00  Matchweek 2 Sun      W          6              2     14                8                        57.1            0.43                      0.75                1                   0          1.6                         1.6                     0.12                         4.4                                     4.4                        4      2             50.0             0                       -1.2                        25.0           37           63                         58.7                    7681                          2530        5                      1.5               0.6          12                  26                         7                          0                  32                     27              8              1            1         1                0                      0                     11        8           11      11              2               9              9          20                 2          60      623                      144                    20                  19                    9                   47.4      406                     2221                           1197                   26                        17            10\n",
      "2024-09-01 00:00:00         Chelsea  Home  Crystal Palace 13:30  Matchweek 3 Sun      D          1              1     13                7                        53.8            0.08                      0.14                1                   0          2.4                         2.4                     0.18                        -1.4                                    -1.4                        3      2             66.7             0                        0.1                        16.7           47           64                         73.4                   10207                          3075        1                      2.0               1.1          10                  58                         7                          0                  50                     25              2              0            0         0                0                      0                      2        7            7      13              5               8              8          18                 0          62      749                      176                    19                  27                   11                   40.7      378                     2159                           1202                   23                         7             6\n"
     ]
    }
   ],
   "source": [
    "print(\"\\nFirst few rows:\")\n",
    "print(df.head(25).to_string(index=False))"
   ]
  },
  {
   "cell_type": "code",
   "execution_count": 8,
   "metadata": {},
   "outputs": [
    {
     "data": {
      "text/plain": [
       "team\n",
       "Liverpool                   11\n",
       "Manchester-City             11\n",
       "Wolverhampton-Wanderers     11\n",
       "Crystal-Palace              11\n",
       "Ipswich-Town                11\n",
       "Everton                     11\n",
       "Leicester-City              11\n",
       "West-Ham-United             11\n",
       "Manchester-United           11\n",
       "Bournemouth                 11\n",
       "Brentford                   11\n",
       "Tottenham-Hotspur           11\n",
       "Aston-Villa                 11\n",
       "Newcastle-United            11\n",
       "Fulham                      11\n",
       "Brighton-and-Hove-Albion    11\n",
       "Nottingham-Forest           11\n",
       "Arsenal                     11\n",
       "Chelsea                     11\n",
       "Southampton                 11\n",
       "Name: count, dtype: int64"
      ]
     },
     "execution_count": 8,
     "metadata": {},
     "output_type": "execute_result"
    }
   ],
   "source": [
    "df['team'].value_counts()"
   ]
  },
  {
   "cell_type": "code",
   "execution_count": 9,
   "metadata": {},
   "outputs": [
    {
     "data": {
      "text/plain": [
       "opponent\n",
       "Ipswich Town       11\n",
       "Brentford          11\n",
       "Leicester City     11\n",
       "Tottenham          11\n",
       "Liverpool          11\n",
       "Manchester City    11\n",
       "Southampton        11\n",
       "Fulham             11\n",
       "Newcastle Utd      11\n",
       "West Ham           11\n",
       "Aston Villa        11\n",
       "Brighton           11\n",
       "Arsenal            11\n",
       "Chelsea            11\n",
       "Crystal Palace     11\n",
       "Wolves             11\n",
       "Bournemouth        11\n",
       "Nott'ham Forest    11\n",
       "Manchester Utd     11\n",
       "Everton            11\n",
       "Name: count, dtype: int64"
      ]
     },
     "execution_count": 9,
     "metadata": {},
     "output_type": "execute_result"
    }
   ],
   "source": [
    "df['opponent'].value_counts()"
   ]
  },
  {
   "cell_type": "code",
   "execution_count": 10,
   "metadata": {},
   "outputs": [
    {
     "name": "stdout",
     "output_type": "stream",
     "text": [
      "\n",
      "Basic statistics:\n"
     ]
    },
    {
     "data": {
      "text/html": [
       "<div>\n",
       "<style scoped>\n",
       "    .dataframe tbody tr th:only-of-type {\n",
       "        vertical-align: middle;\n",
       "    }\n",
       "\n",
       "    .dataframe tbody tr th {\n",
       "        vertical-align: top;\n",
       "    }\n",
       "\n",
       "    .dataframe thead th {\n",
       "        text-align: right;\n",
       "    }\n",
       "</style>\n",
       "<table border=\"1\" class=\"dataframe\">\n",
       "  <thead>\n",
       "    <tr style=\"text-align: right;\">\n",
       "      <th></th>\n",
       "      <th>goals_for</th>\n",
       "      <th>goals_against</th>\n",
       "      <th>shots</th>\n",
       "      <th>shots_on_target</th>\n",
       "      <th>shots_on_target_percentage</th>\n",
       "      <th>goals_per_shot</th>\n",
       "      <th>goals_per_shot_on_target</th>\n",
       "      <th>free_kick_shots</th>\n",
       "      <th>penalty_kicks_made</th>\n",
       "      <th>shooting_xG</th>\n",
       "      <th>expected_goals_non_penalty</th>\n",
       "      <th>expected_goals_per_shot</th>\n",
       "      <th>goals_minus_expected_goals</th>\n",
       "      <th>non_penalty_goals_minus_expected_goals</th>\n",
       "      <th>shots_on_target_against</th>\n",
       "      <th>saves</th>\n",
       "      <th>save_percentage</th>\n",
       "      <th>clean_sheets</th>\n",
       "      <th>expected_goals_plus_minus</th>\n",
       "      <th>crosses_stopped_percentage</th>\n",
       "      <th>passing_Cmp</th>\n",
       "      <th>passing_Att</th>\n",
       "      <th>passes_completed_percentage</th>\n",
       "      <th>total_passing_distance</th>\n",
       "      <th>progressive_passing_distance</th>\n",
       "      <th>assists</th>\n",
       "      <th>expected_assisted_goals</th>\n",
       "      <th>expected_assists</th>\n",
       "      <th>key_passes</th>\n",
       "      <th>passes_final_third</th>\n",
       "      <th>passes_into_penalty_area</th>\n",
       "      <th>crosses_into_penalty_area</th>\n",
       "      <th>progressive_passes</th>\n",
       "      <th>shot_creating_actions</th>\n",
       "      <th>live_ball_gca</th>\n",
       "      <th>dead_ball_gca</th>\n",
       "      <th>take_on_gca</th>\n",
       "      <th>shot_gca</th>\n",
       "      <th>fouls_drawn_gca</th>\n",
       "      <th>defensive_actions_gca</th>\n",
       "      <th>goal_creating_actions</th>\n",
       "      <th>tackles</th>\n",
       "      <th>tackles_won</th>\n",
       "      <th>blocks</th>\n",
       "      <th>shots_blocked</th>\n",
       "      <th>passes_blocked</th>\n",
       "      <th>interceptions</th>\n",
       "      <th>clearances</th>\n",
       "      <th>defensive_errors</th>\n",
       "      <th>possession</th>\n",
       "      <th>touches</th>\n",
       "      <th>attacking_third_touches</th>\n",
       "      <th>penalty_area_touches</th>\n",
       "      <th>take_ons_attempted</th>\n",
       "      <th>successful_take_ons</th>\n",
       "      <th>successful_take_ons_%</th>\n",
       "      <th>carries</th>\n",
       "      <th>total_carrying_distance</th>\n",
       "      <th>progressive_carrying_distance</th>\n",
       "      <th>progressive_carries</th>\n",
       "      <th>carries_into_final_third</th>\n",
       "      <th>dispossessed</th>\n",
       "    </tr>\n",
       "  </thead>\n",
       "  <tbody>\n",
       "    <tr>\n",
       "      <th>count</th>\n",
       "      <td>220.000000</td>\n",
       "      <td>220.000000</td>\n",
       "      <td>220.000000</td>\n",
       "      <td>220.000000</td>\n",
       "      <td>220.000000</td>\n",
       "      <td>220.000000</td>\n",
       "      <td>218.000000</td>\n",
       "      <td>220.000000</td>\n",
       "      <td>220.000000</td>\n",
       "      <td>220.000000</td>\n",
       "      <td>220.000000</td>\n",
       "      <td>220.000000</td>\n",
       "      <td>220.000000</td>\n",
       "      <td>220.000000</td>\n",
       "      <td>220.000000</td>\n",
       "      <td>220.000000</td>\n",
       "      <td>218.000000</td>\n",
       "      <td>220.000000</td>\n",
       "      <td>220.000000</td>\n",
       "      <td>220.000000</td>\n",
       "      <td>220.000000</td>\n",
       "      <td>220.000000</td>\n",
       "      <td>220.000000</td>\n",
       "      <td>220.000000</td>\n",
       "      <td>220.000000</td>\n",
       "      <td>220.000000</td>\n",
       "      <td>220.000000</td>\n",
       "      <td>220.000000</td>\n",
       "      <td>220.000000</td>\n",
       "      <td>220.000000</td>\n",
       "      <td>220.000000</td>\n",
       "      <td>220.000000</td>\n",
       "      <td>220.000000</td>\n",
       "      <td>220.000000</td>\n",
       "      <td>220.000000</td>\n",
       "      <td>220.000000</td>\n",
       "      <td>220.000000</td>\n",
       "      <td>220.000000</td>\n",
       "      <td>220.000000</td>\n",
       "      <td>220.000000</td>\n",
       "      <td>220.000000</td>\n",
       "      <td>220.000000</td>\n",
       "      <td>220.000000</td>\n",
       "      <td>220.000000</td>\n",
       "      <td>220.000000</td>\n",
       "      <td>220.000000</td>\n",
       "      <td>220.000000</td>\n",
       "      <td>220.000000</td>\n",
       "      <td>220.000000</td>\n",
       "      <td>220.000000</td>\n",
       "      <td>220.000000</td>\n",
       "      <td>220.000000</td>\n",
       "      <td>220.000000</td>\n",
       "      <td>220.000000</td>\n",
       "      <td>220.000000</td>\n",
       "      <td>220.000000</td>\n",
       "      <td>220.000000</td>\n",
       "      <td>220.000000</td>\n",
       "      <td>220.000000</td>\n",
       "      <td>220.000000</td>\n",
       "      <td>220.000000</td>\n",
       "      <td>220.000000</td>\n",
       "    </tr>\n",
       "    <tr>\n",
       "      <th>mean</th>\n",
       "      <td>1.427273</td>\n",
       "      <td>1.427273</td>\n",
       "      <td>13.345455</td>\n",
       "      <td>4.550000</td>\n",
       "      <td>35.053636</td>\n",
       "      <td>0.110409</td>\n",
       "      <td>0.307982</td>\n",
       "      <td>0.354545</td>\n",
       "      <td>0.068182</td>\n",
       "      <td>1.450909</td>\n",
       "      <td>1.383636</td>\n",
       "      <td>0.108227</td>\n",
       "      <td>-0.055455</td>\n",
       "      <td>-0.056364</td>\n",
       "      <td>4.636364</td>\n",
       "      <td>3.222727</td>\n",
       "      <td>69.018349</td>\n",
       "      <td>0.204545</td>\n",
       "      <td>0.051818</td>\n",
       "      <td>8.023182</td>\n",
       "      <td>33.090909</td>\n",
       "      <td>62.731818</td>\n",
       "      <td>52.784091</td>\n",
       "      <td>6834.990909</td>\n",
       "      <td>2397.572727</td>\n",
       "      <td>1.050000</td>\n",
       "      <td>1.131364</td>\n",
       "      <td>1.005000</td>\n",
       "      <td>10.286364</td>\n",
       "      <td>31.122727</td>\n",
       "      <td>8.377273</td>\n",
       "      <td>1.895455</td>\n",
       "      <td>37.672727</td>\n",
       "      <td>23.890909</td>\n",
       "      <td>1.786364</td>\n",
       "      <td>0.159091</td>\n",
       "      <td>0.145455</td>\n",
       "      <td>0.154545</td>\n",
       "      <td>0.131818</td>\n",
       "      <td>0.063636</td>\n",
       "      <td>2.440909</td>\n",
       "      <td>8.150000</td>\n",
       "      <td>10.818182</td>\n",
       "      <td>11.618182</td>\n",
       "      <td>3.727273</td>\n",
       "      <td>7.890909</td>\n",
       "      <td>8.536364</td>\n",
       "      <td>22.127273</td>\n",
       "      <td>0.709091</td>\n",
       "      <td>50.000000</td>\n",
       "      <td>600.540909</td>\n",
       "      <td>155.690909</td>\n",
       "      <td>25.627273</td>\n",
       "      <td>18.522727</td>\n",
       "      <td>8.136364</td>\n",
       "      <td>43.936364</td>\n",
       "      <td>340.100000</td>\n",
       "      <td>1806.318182</td>\n",
       "      <td>934.390909</td>\n",
       "      <td>19.004545</td>\n",
       "      <td>12.518182</td>\n",
       "      <td>9.895455</td>\n",
       "    </tr>\n",
       "    <tr>\n",
       "      <th>std</th>\n",
       "      <td>1.122286</td>\n",
       "      <td>1.122286</td>\n",
       "      <td>5.374447</td>\n",
       "      <td>2.517927</td>\n",
       "      <td>15.159434</td>\n",
       "      <td>0.108520</td>\n",
       "      <td>0.248497</td>\n",
       "      <td>0.582647</td>\n",
       "      <td>0.252632</td>\n",
       "      <td>0.815461</td>\n",
       "      <td>0.766958</td>\n",
       "      <td>0.047524</td>\n",
       "      <td>0.904286</td>\n",
       "      <td>0.892641</td>\n",
       "      <td>2.505618</td>\n",
       "      <td>2.158223</td>\n",
       "      <td>24.794890</td>\n",
       "      <td>0.404289</td>\n",
       "      <td>0.782425</td>\n",
       "      <td>9.586561</td>\n",
       "      <td>8.805919</td>\n",
       "      <td>12.110069</td>\n",
       "      <td>9.800739</td>\n",
       "      <td>1842.695712</td>\n",
       "      <td>476.880329</td>\n",
       "      <td>0.937426</td>\n",
       "      <td>0.675716</td>\n",
       "      <td>0.543977</td>\n",
       "      <td>4.393311</td>\n",
       "      <td>12.226120</td>\n",
       "      <td>4.257514</td>\n",
       "      <td>1.440756</td>\n",
       "      <td>15.183570</td>\n",
       "      <td>9.614340</td>\n",
       "      <td>1.705429</td>\n",
       "      <td>0.390713</td>\n",
       "      <td>0.366057</td>\n",
       "      <td>0.398315</td>\n",
       "      <td>0.352274</td>\n",
       "      <td>0.262662</td>\n",
       "      <td>2.002546</td>\n",
       "      <td>3.420359</td>\n",
       "      <td>3.776113</td>\n",
       "      <td>4.287567</td>\n",
       "      <td>2.373403</td>\n",
       "      <td>3.134272</td>\n",
       "      <td>3.202959</td>\n",
       "      <td>9.208998</td>\n",
       "      <td>0.889774</td>\n",
       "      <td>11.530781</td>\n",
       "      <td>114.661157</td>\n",
       "      <td>72.363144</td>\n",
       "      <td>11.438028</td>\n",
       "      <td>5.519118</td>\n",
       "      <td>3.456124</td>\n",
       "      <td>13.650238</td>\n",
       "      <td>100.200115</td>\n",
       "      <td>526.001093</td>\n",
       "      <td>312.317807</td>\n",
       "      <td>8.339540</td>\n",
       "      <td>6.045840</td>\n",
       "      <td>3.684222</td>\n",
       "    </tr>\n",
       "    <tr>\n",
       "      <th>min</th>\n",
       "      <td>0.000000</td>\n",
       "      <td>0.000000</td>\n",
       "      <td>1.000000</td>\n",
       "      <td>0.000000</td>\n",
       "      <td>0.000000</td>\n",
       "      <td>0.000000</td>\n",
       "      <td>0.000000</td>\n",
       "      <td>0.000000</td>\n",
       "      <td>0.000000</td>\n",
       "      <td>0.100000</td>\n",
       "      <td>0.100000</td>\n",
       "      <td>0.030000</td>\n",
       "      <td>-2.100000</td>\n",
       "      <td>-2.100000</td>\n",
       "      <td>0.000000</td>\n",
       "      <td>0.000000</td>\n",
       "      <td>0.000000</td>\n",
       "      <td>0.000000</td>\n",
       "      <td>-3.000000</td>\n",
       "      <td>0.000000</td>\n",
       "      <td>13.000000</td>\n",
       "      <td>35.000000</td>\n",
       "      <td>25.400000</td>\n",
       "      <td>2221.000000</td>\n",
       "      <td>1134.000000</td>\n",
       "      <td>0.000000</td>\n",
       "      <td>0.000000</td>\n",
       "      <td>0.200000</td>\n",
       "      <td>1.000000</td>\n",
       "      <td>6.000000</td>\n",
       "      <td>1.000000</td>\n",
       "      <td>0.000000</td>\n",
       "      <td>8.000000</td>\n",
       "      <td>2.000000</td>\n",
       "      <td>0.000000</td>\n",
       "      <td>0.000000</td>\n",
       "      <td>0.000000</td>\n",
       "      <td>0.000000</td>\n",
       "      <td>0.000000</td>\n",
       "      <td>0.000000</td>\n",
       "      <td>0.000000</td>\n",
       "      <td>0.000000</td>\n",
       "      <td>2.000000</td>\n",
       "      <td>2.000000</td>\n",
       "      <td>0.000000</td>\n",
       "      <td>2.000000</td>\n",
       "      <td>2.000000</td>\n",
       "      <td>5.000000</td>\n",
       "      <td>0.000000</td>\n",
       "      <td>23.000000</td>\n",
       "      <td>317.000000</td>\n",
       "      <td>32.000000</td>\n",
       "      <td>4.000000</td>\n",
       "      <td>6.000000</td>\n",
       "      <td>1.000000</td>\n",
       "      <td>12.500000</td>\n",
       "      <td>108.000000</td>\n",
       "      <td>659.000000</td>\n",
       "      <td>304.000000</td>\n",
       "      <td>3.000000</td>\n",
       "      <td>1.000000</td>\n",
       "      <td>1.000000</td>\n",
       "    </tr>\n",
       "    <tr>\n",
       "      <th>25%</th>\n",
       "      <td>1.000000</td>\n",
       "      <td>1.000000</td>\n",
       "      <td>9.000000</td>\n",
       "      <td>3.000000</td>\n",
       "      <td>25.000000</td>\n",
       "      <td>0.050000</td>\n",
       "      <td>0.132500</td>\n",
       "      <td>0.000000</td>\n",
       "      <td>0.000000</td>\n",
       "      <td>0.800000</td>\n",
       "      <td>0.800000</td>\n",
       "      <td>0.070000</td>\n",
       "      <td>-0.625000</td>\n",
       "      <td>-0.700000</td>\n",
       "      <td>3.000000</td>\n",
       "      <td>2.000000</td>\n",
       "      <td>50.000000</td>\n",
       "      <td>0.000000</td>\n",
       "      <td>-0.400000</td>\n",
       "      <td>0.000000</td>\n",
       "      <td>27.000000</td>\n",
       "      <td>54.000000</td>\n",
       "      <td>46.275000</td>\n",
       "      <td>5614.500000</td>\n",
       "      <td>2097.000000</td>\n",
       "      <td>0.000000</td>\n",
       "      <td>0.600000</td>\n",
       "      <td>0.600000</td>\n",
       "      <td>7.000000</td>\n",
       "      <td>22.750000</td>\n",
       "      <td>5.000000</td>\n",
       "      <td>1.000000</td>\n",
       "      <td>26.000000</td>\n",
       "      <td>17.000000</td>\n",
       "      <td>0.000000</td>\n",
       "      <td>0.000000</td>\n",
       "      <td>0.000000</td>\n",
       "      <td>0.000000</td>\n",
       "      <td>0.000000</td>\n",
       "      <td>0.000000</td>\n",
       "      <td>1.000000</td>\n",
       "      <td>6.000000</td>\n",
       "      <td>8.000000</td>\n",
       "      <td>9.000000</td>\n",
       "      <td>2.000000</td>\n",
       "      <td>6.000000</td>\n",
       "      <td>6.000000</td>\n",
       "      <td>16.000000</td>\n",
       "      <td>0.000000</td>\n",
       "      <td>42.000000</td>\n",
       "      <td>520.750000</td>\n",
       "      <td>112.000000</td>\n",
       "      <td>18.000000</td>\n",
       "      <td>15.000000</td>\n",
       "      <td>6.000000</td>\n",
       "      <td>34.200000</td>\n",
       "      <td>270.000000</td>\n",
       "      <td>1407.750000</td>\n",
       "      <td>694.750000</td>\n",
       "      <td>13.000000</td>\n",
       "      <td>8.000000</td>\n",
       "      <td>7.000000</td>\n",
       "    </tr>\n",
       "    <tr>\n",
       "      <th>50%</th>\n",
       "      <td>1.000000</td>\n",
       "      <td>1.000000</td>\n",
       "      <td>13.000000</td>\n",
       "      <td>4.000000</td>\n",
       "      <td>33.300000</td>\n",
       "      <td>0.100000</td>\n",
       "      <td>0.290000</td>\n",
       "      <td>0.000000</td>\n",
       "      <td>0.000000</td>\n",
       "      <td>1.300000</td>\n",
       "      <td>1.300000</td>\n",
       "      <td>0.100000</td>\n",
       "      <td>0.000000</td>\n",
       "      <td>0.000000</td>\n",
       "      <td>4.000000</td>\n",
       "      <td>3.000000</td>\n",
       "      <td>71.400000</td>\n",
       "      <td>0.000000</td>\n",
       "      <td>0.100000</td>\n",
       "      <td>6.300000</td>\n",
       "      <td>33.000000</td>\n",
       "      <td>62.000000</td>\n",
       "      <td>53.250000</td>\n",
       "      <td>6756.000000</td>\n",
       "      <td>2370.500000</td>\n",
       "      <td>1.000000</td>\n",
       "      <td>1.000000</td>\n",
       "      <td>0.900000</td>\n",
       "      <td>10.000000</td>\n",
       "      <td>30.000000</td>\n",
       "      <td>8.000000</td>\n",
       "      <td>2.000000</td>\n",
       "      <td>36.000000</td>\n",
       "      <td>22.000000</td>\n",
       "      <td>2.000000</td>\n",
       "      <td>0.000000</td>\n",
       "      <td>0.000000</td>\n",
       "      <td>0.000000</td>\n",
       "      <td>0.000000</td>\n",
       "      <td>0.000000</td>\n",
       "      <td>2.000000</td>\n",
       "      <td>8.000000</td>\n",
       "      <td>11.000000</td>\n",
       "      <td>11.000000</td>\n",
       "      <td>3.000000</td>\n",
       "      <td>8.000000</td>\n",
       "      <td>8.000000</td>\n",
       "      <td>21.000000</td>\n",
       "      <td>0.000000</td>\n",
       "      <td>50.000000</td>\n",
       "      <td>599.000000</td>\n",
       "      <td>146.500000</td>\n",
       "      <td>24.000000</td>\n",
       "      <td>18.000000</td>\n",
       "      <td>8.000000</td>\n",
       "      <td>44.400000</td>\n",
       "      <td>333.500000</td>\n",
       "      <td>1745.500000</td>\n",
       "      <td>902.500000</td>\n",
       "      <td>18.000000</td>\n",
       "      <td>12.000000</td>\n",
       "      <td>10.000000</td>\n",
       "    </tr>\n",
       "    <tr>\n",
       "      <th>75%</th>\n",
       "      <td>2.000000</td>\n",
       "      <td>2.000000</td>\n",
       "      <td>17.000000</td>\n",
       "      <td>6.000000</td>\n",
       "      <td>42.900000</td>\n",
       "      <td>0.150000</td>\n",
       "      <td>0.500000</td>\n",
       "      <td>1.000000</td>\n",
       "      <td>0.000000</td>\n",
       "      <td>1.825000</td>\n",
       "      <td>1.800000</td>\n",
       "      <td>0.130000</td>\n",
       "      <td>0.500000</td>\n",
       "      <td>0.500000</td>\n",
       "      <td>6.000000</td>\n",
       "      <td>4.000000</td>\n",
       "      <td>85.100000</td>\n",
       "      <td>0.000000</td>\n",
       "      <td>0.500000</td>\n",
       "      <td>11.100000</td>\n",
       "      <td>38.000000</td>\n",
       "      <td>70.000000</td>\n",
       "      <td>60.000000</td>\n",
       "      <td>8140.750000</td>\n",
       "      <td>2725.750000</td>\n",
       "      <td>2.000000</td>\n",
       "      <td>1.500000</td>\n",
       "      <td>1.300000</td>\n",
       "      <td>13.000000</td>\n",
       "      <td>38.250000</td>\n",
       "      <td>10.250000</td>\n",
       "      <td>3.000000</td>\n",
       "      <td>48.000000</td>\n",
       "      <td>30.000000</td>\n",
       "      <td>3.000000</td>\n",
       "      <td>0.000000</td>\n",
       "      <td>0.000000</td>\n",
       "      <td>0.000000</td>\n",
       "      <td>0.000000</td>\n",
       "      <td>0.000000</td>\n",
       "      <td>4.000000</td>\n",
       "      <td>11.000000</td>\n",
       "      <td>13.000000</td>\n",
       "      <td>14.000000</td>\n",
       "      <td>5.000000</td>\n",
       "      <td>9.250000</td>\n",
       "      <td>11.000000</td>\n",
       "      <td>27.250000</td>\n",
       "      <td>1.000000</td>\n",
       "      <td>58.000000</td>\n",
       "      <td>675.250000</td>\n",
       "      <td>182.250000</td>\n",
       "      <td>31.000000</td>\n",
       "      <td>22.000000</td>\n",
       "      <td>10.000000</td>\n",
       "      <td>53.800000</td>\n",
       "      <td>408.750000</td>\n",
       "      <td>2164.750000</td>\n",
       "      <td>1159.250000</td>\n",
       "      <td>23.000000</td>\n",
       "      <td>16.000000</td>\n",
       "      <td>12.000000</td>\n",
       "    </tr>\n",
       "    <tr>\n",
       "      <th>max</th>\n",
       "      <td>6.000000</td>\n",
       "      <td>6.000000</td>\n",
       "      <td>35.000000</td>\n",
       "      <td>16.000000</td>\n",
       "      <td>100.000000</td>\n",
       "      <td>1.000000</td>\n",
       "      <td>1.000000</td>\n",
       "      <td>3.000000</td>\n",
       "      <td>1.000000</td>\n",
       "      <td>4.400000</td>\n",
       "      <td>4.400000</td>\n",
       "      <td>0.290000</td>\n",
       "      <td>4.400000</td>\n",
       "      <td>4.400000</td>\n",
       "      <td>16.000000</td>\n",
       "      <td>13.000000</td>\n",
       "      <td>100.000000</td>\n",
       "      <td>1.000000</td>\n",
       "      <td>2.500000</td>\n",
       "      <td>66.700000</td>\n",
       "      <td>59.000000</td>\n",
       "      <td>99.000000</td>\n",
       "      <td>85.700000</td>\n",
       "      <td>11491.000000</td>\n",
       "      <td>3551.000000</td>\n",
       "      <td>5.000000</td>\n",
       "      <td>3.900000</td>\n",
       "      <td>2.900000</td>\n",
       "      <td>27.000000</td>\n",
       "      <td>72.000000</td>\n",
       "      <td>26.000000</td>\n",
       "      <td>8.000000</td>\n",
       "      <td>100.000000</td>\n",
       "      <td>64.000000</td>\n",
       "      <td>8.000000</td>\n",
       "      <td>2.000000</td>\n",
       "      <td>2.000000</td>\n",
       "      <td>3.000000</td>\n",
       "      <td>2.000000</td>\n",
       "      <td>2.000000</td>\n",
       "      <td>11.000000</td>\n",
       "      <td>18.000000</td>\n",
       "      <td>25.000000</td>\n",
       "      <td>27.000000</td>\n",
       "      <td>13.000000</td>\n",
       "      <td>19.000000</td>\n",
       "      <td>19.000000</td>\n",
       "      <td>63.000000</td>\n",
       "      <td>4.000000</td>\n",
       "      <td>77.000000</td>\n",
       "      <td>890.000000</td>\n",
       "      <td>546.000000</td>\n",
       "      <td>80.000000</td>\n",
       "      <td>37.000000</td>\n",
       "      <td>19.000000</td>\n",
       "      <td>88.900000</td>\n",
       "      <td>601.000000</td>\n",
       "      <td>3597.000000</td>\n",
       "      <td>2182.000000</td>\n",
       "      <td>65.000000</td>\n",
       "      <td>42.000000</td>\n",
       "      <td>24.000000</td>\n",
       "    </tr>\n",
       "  </tbody>\n",
       "</table>\n",
       "</div>"
      ],
      "text/plain": [
       "        goals_for  goals_against       shots  shots_on_target  \\\n",
       "count  220.000000     220.000000  220.000000       220.000000   \n",
       "mean     1.427273       1.427273   13.345455         4.550000   \n",
       "std      1.122286       1.122286    5.374447         2.517927   \n",
       "min      0.000000       0.000000    1.000000         0.000000   \n",
       "25%      1.000000       1.000000    9.000000         3.000000   \n",
       "50%      1.000000       1.000000   13.000000         4.000000   \n",
       "75%      2.000000       2.000000   17.000000         6.000000   \n",
       "max      6.000000       6.000000   35.000000        16.000000   \n",
       "\n",
       "       shots_on_target_percentage  goals_per_shot  goals_per_shot_on_target  \\\n",
       "count                  220.000000      220.000000                218.000000   \n",
       "mean                    35.053636        0.110409                  0.307982   \n",
       "std                     15.159434        0.108520                  0.248497   \n",
       "min                      0.000000        0.000000                  0.000000   \n",
       "25%                     25.000000        0.050000                  0.132500   \n",
       "50%                     33.300000        0.100000                  0.290000   \n",
       "75%                     42.900000        0.150000                  0.500000   \n",
       "max                    100.000000        1.000000                  1.000000   \n",
       "\n",
       "       free_kick_shots  penalty_kicks_made  shooting_xG  \\\n",
       "count       220.000000          220.000000   220.000000   \n",
       "mean          0.354545            0.068182     1.450909   \n",
       "std           0.582647            0.252632     0.815461   \n",
       "min           0.000000            0.000000     0.100000   \n",
       "25%           0.000000            0.000000     0.800000   \n",
       "50%           0.000000            0.000000     1.300000   \n",
       "75%           1.000000            0.000000     1.825000   \n",
       "max           3.000000            1.000000     4.400000   \n",
       "\n",
       "       expected_goals_non_penalty  expected_goals_per_shot  \\\n",
       "count                  220.000000               220.000000   \n",
       "mean                     1.383636                 0.108227   \n",
       "std                      0.766958                 0.047524   \n",
       "min                      0.100000                 0.030000   \n",
       "25%                      0.800000                 0.070000   \n",
       "50%                      1.300000                 0.100000   \n",
       "75%                      1.800000                 0.130000   \n",
       "max                      4.400000                 0.290000   \n",
       "\n",
       "       goals_minus_expected_goals  non_penalty_goals_minus_expected_goals  \\\n",
       "count                  220.000000                              220.000000   \n",
       "mean                    -0.055455                               -0.056364   \n",
       "std                      0.904286                                0.892641   \n",
       "min                     -2.100000                               -2.100000   \n",
       "25%                     -0.625000                               -0.700000   \n",
       "50%                      0.000000                                0.000000   \n",
       "75%                      0.500000                                0.500000   \n",
       "max                      4.400000                                4.400000   \n",
       "\n",
       "       shots_on_target_against       saves  save_percentage  clean_sheets  \\\n",
       "count               220.000000  220.000000       218.000000    220.000000   \n",
       "mean                  4.636364    3.222727        69.018349      0.204545   \n",
       "std                   2.505618    2.158223        24.794890      0.404289   \n",
       "min                   0.000000    0.000000         0.000000      0.000000   \n",
       "25%                   3.000000    2.000000        50.000000      0.000000   \n",
       "50%                   4.000000    3.000000        71.400000      0.000000   \n",
       "75%                   6.000000    4.000000        85.100000      0.000000   \n",
       "max                  16.000000   13.000000       100.000000      1.000000   \n",
       "\n",
       "       expected_goals_plus_minus  crosses_stopped_percentage  passing_Cmp  \\\n",
       "count                 220.000000                  220.000000   220.000000   \n",
       "mean                    0.051818                    8.023182    33.090909   \n",
       "std                     0.782425                    9.586561     8.805919   \n",
       "min                    -3.000000                    0.000000    13.000000   \n",
       "25%                    -0.400000                    0.000000    27.000000   \n",
       "50%                     0.100000                    6.300000    33.000000   \n",
       "75%                     0.500000                   11.100000    38.000000   \n",
       "max                     2.500000                   66.700000    59.000000   \n",
       "\n",
       "       passing_Att  passes_completed_percentage  total_passing_distance  \\\n",
       "count   220.000000                   220.000000              220.000000   \n",
       "mean     62.731818                    52.784091             6834.990909   \n",
       "std      12.110069                     9.800739             1842.695712   \n",
       "min      35.000000                    25.400000             2221.000000   \n",
       "25%      54.000000                    46.275000             5614.500000   \n",
       "50%      62.000000                    53.250000             6756.000000   \n",
       "75%      70.000000                    60.000000             8140.750000   \n",
       "max      99.000000                    85.700000            11491.000000   \n",
       "\n",
       "       progressive_passing_distance     assists  expected_assisted_goals  \\\n",
       "count                    220.000000  220.000000               220.000000   \n",
       "mean                    2397.572727    1.050000                 1.131364   \n",
       "std                      476.880329    0.937426                 0.675716   \n",
       "min                     1134.000000    0.000000                 0.000000   \n",
       "25%                     2097.000000    0.000000                 0.600000   \n",
       "50%                     2370.500000    1.000000                 1.000000   \n",
       "75%                     2725.750000    2.000000                 1.500000   \n",
       "max                     3551.000000    5.000000                 3.900000   \n",
       "\n",
       "       expected_assists  key_passes  passes_final_third  \\\n",
       "count        220.000000  220.000000          220.000000   \n",
       "mean           1.005000   10.286364           31.122727   \n",
       "std            0.543977    4.393311           12.226120   \n",
       "min            0.200000    1.000000            6.000000   \n",
       "25%            0.600000    7.000000           22.750000   \n",
       "50%            0.900000   10.000000           30.000000   \n",
       "75%            1.300000   13.000000           38.250000   \n",
       "max            2.900000   27.000000           72.000000   \n",
       "\n",
       "       passes_into_penalty_area  crosses_into_penalty_area  \\\n",
       "count                220.000000                 220.000000   \n",
       "mean                   8.377273                   1.895455   \n",
       "std                    4.257514                   1.440756   \n",
       "min                    1.000000                   0.000000   \n",
       "25%                    5.000000                   1.000000   \n",
       "50%                    8.000000                   2.000000   \n",
       "75%                   10.250000                   3.000000   \n",
       "max                   26.000000                   8.000000   \n",
       "\n",
       "       progressive_passes  shot_creating_actions  live_ball_gca  \\\n",
       "count          220.000000             220.000000     220.000000   \n",
       "mean            37.672727              23.890909       1.786364   \n",
       "std             15.183570               9.614340       1.705429   \n",
       "min              8.000000               2.000000       0.000000   \n",
       "25%             26.000000              17.000000       0.000000   \n",
       "50%             36.000000              22.000000       2.000000   \n",
       "75%             48.000000              30.000000       3.000000   \n",
       "max            100.000000              64.000000       8.000000   \n",
       "\n",
       "       dead_ball_gca  take_on_gca    shot_gca  fouls_drawn_gca  \\\n",
       "count     220.000000   220.000000  220.000000       220.000000   \n",
       "mean        0.159091     0.145455    0.154545         0.131818   \n",
       "std         0.390713     0.366057    0.398315         0.352274   \n",
       "min         0.000000     0.000000    0.000000         0.000000   \n",
       "25%         0.000000     0.000000    0.000000         0.000000   \n",
       "50%         0.000000     0.000000    0.000000         0.000000   \n",
       "75%         0.000000     0.000000    0.000000         0.000000   \n",
       "max         2.000000     2.000000    3.000000         2.000000   \n",
       "\n",
       "       defensive_actions_gca  goal_creating_actions     tackles  tackles_won  \\\n",
       "count             220.000000             220.000000  220.000000   220.000000   \n",
       "mean                0.063636               2.440909    8.150000    10.818182   \n",
       "std                 0.262662               2.002546    3.420359     3.776113   \n",
       "min                 0.000000               0.000000    0.000000     2.000000   \n",
       "25%                 0.000000               1.000000    6.000000     8.000000   \n",
       "50%                 0.000000               2.000000    8.000000    11.000000   \n",
       "75%                 0.000000               4.000000   11.000000    13.000000   \n",
       "max                 2.000000              11.000000   18.000000    25.000000   \n",
       "\n",
       "           blocks  shots_blocked  passes_blocked  interceptions  clearances  \\\n",
       "count  220.000000     220.000000      220.000000     220.000000  220.000000   \n",
       "mean    11.618182       3.727273        7.890909       8.536364   22.127273   \n",
       "std      4.287567       2.373403        3.134272       3.202959    9.208998   \n",
       "min      2.000000       0.000000        2.000000       2.000000    5.000000   \n",
       "25%      9.000000       2.000000        6.000000       6.000000   16.000000   \n",
       "50%     11.000000       3.000000        8.000000       8.000000   21.000000   \n",
       "75%     14.000000       5.000000        9.250000      11.000000   27.250000   \n",
       "max     27.000000      13.000000       19.000000      19.000000   63.000000   \n",
       "\n",
       "       defensive_errors  possession     touches  attacking_third_touches  \\\n",
       "count        220.000000  220.000000  220.000000               220.000000   \n",
       "mean           0.709091   50.000000  600.540909               155.690909   \n",
       "std            0.889774   11.530781  114.661157                72.363144   \n",
       "min            0.000000   23.000000  317.000000                32.000000   \n",
       "25%            0.000000   42.000000  520.750000               112.000000   \n",
       "50%            0.000000   50.000000  599.000000               146.500000   \n",
       "75%            1.000000   58.000000  675.250000               182.250000   \n",
       "max            4.000000   77.000000  890.000000               546.000000   \n",
       "\n",
       "       penalty_area_touches  take_ons_attempted  successful_take_ons  \\\n",
       "count            220.000000          220.000000           220.000000   \n",
       "mean              25.627273           18.522727             8.136364   \n",
       "std               11.438028            5.519118             3.456124   \n",
       "min                4.000000            6.000000             1.000000   \n",
       "25%               18.000000           15.000000             6.000000   \n",
       "50%               24.000000           18.000000             8.000000   \n",
       "75%               31.000000           22.000000            10.000000   \n",
       "max               80.000000           37.000000            19.000000   \n",
       "\n",
       "       successful_take_ons_%     carries  total_carrying_distance  \\\n",
       "count             220.000000  220.000000               220.000000   \n",
       "mean               43.936364  340.100000              1806.318182   \n",
       "std                13.650238  100.200115               526.001093   \n",
       "min                12.500000  108.000000               659.000000   \n",
       "25%                34.200000  270.000000              1407.750000   \n",
       "50%                44.400000  333.500000              1745.500000   \n",
       "75%                53.800000  408.750000              2164.750000   \n",
       "max                88.900000  601.000000              3597.000000   \n",
       "\n",
       "       progressive_carrying_distance  progressive_carries  \\\n",
       "count                     220.000000           220.000000   \n",
       "mean                      934.390909            19.004545   \n",
       "std                       312.317807             8.339540   \n",
       "min                       304.000000             3.000000   \n",
       "25%                       694.750000            13.000000   \n",
       "50%                       902.500000            18.000000   \n",
       "75%                      1159.250000            23.000000   \n",
       "max                      2182.000000            65.000000   \n",
       "\n",
       "       carries_into_final_third  dispossessed  \n",
       "count                220.000000    220.000000  \n",
       "mean                  12.518182      9.895455  \n",
       "std                    6.045840      3.684222  \n",
       "min                    1.000000      1.000000  \n",
       "25%                    8.000000      7.000000  \n",
       "50%                   12.000000     10.000000  \n",
       "75%                   16.000000     12.000000  \n",
       "max                   42.000000     24.000000  "
      ]
     },
     "execution_count": 10,
     "metadata": {},
     "output_type": "execute_result"
    }
   ],
   "source": [
    "print(\"\\nBasic statistics:\")\n",
    "df.describe()"
   ]
  },
  {
   "cell_type": "code",
   "execution_count": 11,
   "metadata": {},
   "outputs": [
    {
     "name": "stdout",
     "output_type": "stream",
     "text": [
      "\n",
      "Missing values:\n"
     ]
    },
    {
     "data": {
      "text/plain": [
       "date                             0\n",
       "team                             0\n",
       "venue                            0\n",
       "opponent                         0\n",
       "time                             0\n",
       "                                ..\n",
       "total_carrying_distance          0\n",
       "progressive_carrying_distance    0\n",
       "progressive_carries              0\n",
       "carries_into_final_third         0\n",
       "dispossessed                     0\n",
       "Length: 70, dtype: int64"
      ]
     },
     "execution_count": 11,
     "metadata": {},
     "output_type": "execute_result"
    }
   ],
   "source": [
    "print(\"\\nMissing values:\")\n",
    "df.isna().sum()"
   ]
  },
  {
   "cell_type": "markdown",
   "metadata": {},
   "source": [
    "### Win Rate"
   ]
  },
  {
   "cell_type": "code",
   "execution_count": 12,
   "metadata": {},
   "outputs": [
    {
     "name": "stdout",
     "output_type": "stream",
     "text": [
      "Result percentages by team:\n",
      "result                        D      L      W\n",
      "team                                         \n",
      "Arsenal                   36.36  18.18  45.45\n",
      "Aston-Villa               27.27  27.27  45.45\n",
      "Bournemouth               27.27  36.36  36.36\n",
      "Brentford                  9.09  45.45  45.45\n",
      "Brighton-and-Hove-Albion  36.36  18.18  45.45\n",
      "Chelsea                   36.36  18.18  45.45\n",
      "Crystal-Palace            36.36  54.55   9.09\n",
      "Everton                   36.36  45.45  18.18\n",
      "Fulham                    27.27  27.27  45.45\n",
      "Ipswich-Town              45.45  45.45   9.09\n",
      "Leicester-City            36.36  45.45  18.18\n",
      "Liverpool                  9.09   9.09  81.82\n",
      "Manchester-City           18.18  18.18  63.64\n",
      "Manchester-United         27.27  36.36  36.36\n",
      "Newcastle-United          27.27  27.27  45.45\n",
      "Nottingham-Forest         36.36  18.18  45.45\n",
      "Southampton                9.09  81.82   9.09\n",
      "Tottenham-Hotspur          9.09  45.45  45.45\n",
      "West-Ham-United           27.27  45.45  27.27\n",
      "Wolverhampton-Wanderers   27.27  63.64   9.09\n"
     ]
    }
   ],
   "source": [
    "# Calculate and display result frequencies\n",
    "team_result_freq = df.groupby(['team', 'result']).size().unstack(fill_value=0)\n",
    "team_result_pct = team_result_freq.div(team_result_freq.sum(axis=1), axis=0) * 100\n",
    "\n",
    "print(\"Result percentages by team:\")\n",
    "print(team_result_pct.round(2))"
   ]
  },
  {
   "cell_type": "code",
   "execution_count": 13,
   "metadata": {},
   "outputs": [
    {
     "data": {
      "application/vnd.plotly.v1+json": {
       "config": {
        "plotlyServerURL": "https://plot.ly"
       },
       "data": [
        {
         "alignmentgroup": "True",
         "hovertemplate": "color=Liverpool<br>x=%{x}<br>y=%{y}<extra></extra>",
         "legendgroup": "Liverpool",
         "marker": {
          "color": "#C8102E",
          "pattern": {
           "shape": ""
          }
         },
         "name": "Liverpool",
         "offsetgroup": "Liverpool",
         "orientation": "v",
         "showlegend": true,
         "textposition": "auto",
         "type": "bar",
         "x": [
          "Liverpool"
         ],
         "xaxis": "x",
         "y": [
          81.81818181818183
         ],
         "yaxis": "y"
        },
        {
         "alignmentgroup": "True",
         "hovertemplate": "color=Manchester-City<br>x=%{x}<br>y=%{y}<extra></extra>",
         "legendgroup": "Manchester-City",
         "marker": {
          "color": "#6CABDD",
          "pattern": {
           "shape": ""
          }
         },
         "name": "Manchester-City",
         "offsetgroup": "Manchester-City",
         "orientation": "v",
         "showlegend": true,
         "textposition": "auto",
         "type": "bar",
         "x": [
          "Manchester-City"
         ],
         "xaxis": "x",
         "y": [
          63.63636363636363
         ],
         "yaxis": "y"
        },
        {
         "alignmentgroup": "True",
         "hovertemplate": "color=Arsenal<br>x=%{x}<br>y=%{y}<extra></extra>",
         "legendgroup": "Arsenal",
         "marker": {
          "color": "#EF0107",
          "pattern": {
           "shape": ""
          }
         },
         "name": "Arsenal",
         "offsetgroup": "Arsenal",
         "orientation": "v",
         "showlegend": true,
         "textposition": "auto",
         "type": "bar",
         "x": [
          "Arsenal"
         ],
         "xaxis": "x",
         "y": [
          45.45454545454545
         ],
         "yaxis": "y"
        },
        {
         "alignmentgroup": "True",
         "hovertemplate": "color=Newcastle-United<br>x=%{x}<br>y=%{y}<extra></extra>",
         "legendgroup": "Newcastle-United",
         "marker": {
          "color": "#241F20",
          "pattern": {
           "shape": ""
          }
         },
         "name": "Newcastle-United",
         "offsetgroup": "Newcastle-United",
         "orientation": "v",
         "showlegend": true,
         "textposition": "auto",
         "type": "bar",
         "x": [
          "Newcastle-United"
         ],
         "xaxis": "x",
         "y": [
          45.45454545454545
         ],
         "yaxis": "y"
        },
        {
         "alignmentgroup": "True",
         "hovertemplate": "color=Brentford<br>x=%{x}<br>y=%{y}<extra></extra>",
         "legendgroup": "Brentford",
         "marker": {
          "color": "#e30613",
          "pattern": {
           "shape": ""
          }
         },
         "name": "Brentford",
         "offsetgroup": "Brentford",
         "orientation": "v",
         "showlegend": true,
         "textposition": "auto",
         "type": "bar",
         "x": [
          "Brentford"
         ],
         "xaxis": "x",
         "y": [
          45.45454545454545
         ],
         "yaxis": "y"
        },
        {
         "alignmentgroup": "True",
         "hovertemplate": "color=Brighton-and-Hove-Albion<br>x=%{x}<br>y=%{y}<extra></extra>",
         "legendgroup": "Brighton-and-Hove-Albion",
         "marker": {
          "color": "#0057B8",
          "pattern": {
           "shape": ""
          }
         },
         "name": "Brighton-and-Hove-Albion",
         "offsetgroup": "Brighton-and-Hove-Albion",
         "orientation": "v",
         "showlegend": true,
         "textposition": "auto",
         "type": "bar",
         "x": [
          "Brighton-and-Hove-Albion"
         ],
         "xaxis": "x",
         "y": [
          45.45454545454545
         ],
         "yaxis": "y"
        },
        {
         "alignmentgroup": "True",
         "hovertemplate": "color=Chelsea<br>x=%{x}<br>y=%{y}<extra></extra>",
         "legendgroup": "Chelsea",
         "marker": {
          "color": "#034694",
          "pattern": {
           "shape": ""
          }
         },
         "name": "Chelsea",
         "offsetgroup": "Chelsea",
         "orientation": "v",
         "showlegend": true,
         "textposition": "auto",
         "type": "bar",
         "x": [
          "Chelsea"
         ],
         "xaxis": "x",
         "y": [
          45.45454545454545
         ],
         "yaxis": "y"
        },
        {
         "alignmentgroup": "True",
         "hovertemplate": "color=Tottenham-Hotspur<br>x=%{x}<br>y=%{y}<extra></extra>",
         "legendgroup": "Tottenham-Hotspur",
         "marker": {
          "color": "#132257",
          "pattern": {
           "shape": ""
          }
         },
         "name": "Tottenham-Hotspur",
         "offsetgroup": "Tottenham-Hotspur",
         "orientation": "v",
         "showlegend": true,
         "textposition": "auto",
         "type": "bar",
         "x": [
          "Tottenham-Hotspur"
         ],
         "xaxis": "x",
         "y": [
          45.45454545454545
         ],
         "yaxis": "y"
        },
        {
         "alignmentgroup": "True",
         "hovertemplate": "color=Fulham<br>x=%{x}<br>y=%{y}<extra></extra>",
         "legendgroup": "Fulham",
         "marker": {
          "color": "#000000",
          "pattern": {
           "shape": ""
          }
         },
         "name": "Fulham",
         "offsetgroup": "Fulham",
         "orientation": "v",
         "showlegend": true,
         "textposition": "auto",
         "type": "bar",
         "x": [
          "Fulham"
         ],
         "xaxis": "x",
         "y": [
          45.45454545454545
         ],
         "yaxis": "y"
        },
        {
         "alignmentgroup": "True",
         "hovertemplate": "color=Nottingham-Forest<br>x=%{x}<br>y=%{y}<extra></extra>",
         "legendgroup": "Nottingham-Forest",
         "marker": {
          "color": "#DD0000",
          "pattern": {
           "shape": ""
          }
         },
         "name": "Nottingham-Forest",
         "offsetgroup": "Nottingham-Forest",
         "orientation": "v",
         "showlegend": true,
         "textposition": "auto",
         "type": "bar",
         "x": [
          "Nottingham-Forest"
         ],
         "xaxis": "x",
         "y": [
          45.45454545454545
         ],
         "yaxis": "y"
        },
        {
         "alignmentgroup": "True",
         "hovertemplate": "color=Aston-Villa<br>x=%{x}<br>y=%{y}<extra></extra>",
         "legendgroup": "Aston-Villa",
         "marker": {
          "color": "#95BFE5",
          "pattern": {
           "shape": ""
          }
         },
         "name": "Aston-Villa",
         "offsetgroup": "Aston-Villa",
         "orientation": "v",
         "showlegend": true,
         "textposition": "auto",
         "type": "bar",
         "x": [
          "Aston-Villa"
         ],
         "xaxis": "x",
         "y": [
          45.45454545454545
         ],
         "yaxis": "y"
        },
        {
         "alignmentgroup": "True",
         "hovertemplate": "color=Bournemouth<br>x=%{x}<br>y=%{y}<extra></extra>",
         "legendgroup": "Bournemouth",
         "marker": {
          "color": "#DA291C",
          "pattern": {
           "shape": ""
          }
         },
         "name": "Bournemouth",
         "offsetgroup": "Bournemouth",
         "orientation": "v",
         "showlegend": true,
         "textposition": "auto",
         "type": "bar",
         "x": [
          "Bournemouth"
         ],
         "xaxis": "x",
         "y": [
          36.36363636363637
         ],
         "yaxis": "y"
        },
        {
         "alignmentgroup": "True",
         "hovertemplate": "color=Manchester-United<br>x=%{x}<br>y=%{y}<extra></extra>",
         "legendgroup": "Manchester-United",
         "marker": {
          "color": "#DA291C",
          "pattern": {
           "shape": ""
          }
         },
         "name": "Manchester-United",
         "offsetgroup": "Manchester-United",
         "orientation": "v",
         "showlegend": true,
         "textposition": "auto",
         "type": "bar",
         "x": [
          "Manchester-United"
         ],
         "xaxis": "x",
         "y": [
          36.36363636363637
         ],
         "yaxis": "y"
        },
        {
         "alignmentgroup": "True",
         "hovertemplate": "color=West-Ham-United<br>x=%{x}<br>y=%{y}<extra></extra>",
         "legendgroup": "West-Ham-United",
         "marker": {
          "color": "#7A263A",
          "pattern": {
           "shape": ""
          }
         },
         "name": "West-Ham-United",
         "offsetgroup": "West-Ham-United",
         "orientation": "v",
         "showlegend": true,
         "textposition": "auto",
         "type": "bar",
         "x": [
          "West-Ham-United"
         ],
         "xaxis": "x",
         "y": [
          27.27272727272727
         ],
         "yaxis": "y"
        },
        {
         "alignmentgroup": "True",
         "hovertemplate": "color=Leicester-City<br>x=%{x}<br>y=%{y}<extra></extra>",
         "legendgroup": "Leicester-City",
         "marker": {
          "color": "#003090",
          "pattern": {
           "shape": ""
          }
         },
         "name": "Leicester-City",
         "offsetgroup": "Leicester-City",
         "orientation": "v",
         "showlegend": true,
         "textposition": "auto",
         "type": "bar",
         "x": [
          "Leicester-City"
         ],
         "xaxis": "x",
         "y": [
          18.181818181818183
         ],
         "yaxis": "y"
        },
        {
         "alignmentgroup": "True",
         "hovertemplate": "color=Everton<br>x=%{x}<br>y=%{y}<extra></extra>",
         "legendgroup": "Everton",
         "marker": {
          "color": "#003399",
          "pattern": {
           "shape": ""
          }
         },
         "name": "Everton",
         "offsetgroup": "Everton",
         "orientation": "v",
         "showlegend": true,
         "textposition": "auto",
         "type": "bar",
         "x": [
          "Everton"
         ],
         "xaxis": "x",
         "y": [
          18.181818181818183
         ],
         "yaxis": "y"
        },
        {
         "alignmentgroup": "True",
         "hovertemplate": "color=Ipswich-Town<br>x=%{x}<br>y=%{y}<extra></extra>",
         "legendgroup": "Ipswich-Town",
         "marker": {
          "color": "#3A64A3",
          "pattern": {
           "shape": ""
          }
         },
         "name": "Ipswich-Town",
         "offsetgroup": "Ipswich-Town",
         "orientation": "v",
         "showlegend": true,
         "textposition": "auto",
         "type": "bar",
         "x": [
          "Ipswich-Town"
         ],
         "xaxis": "x",
         "y": [
          9.090909090909092
         ],
         "yaxis": "y"
        },
        {
         "alignmentgroup": "True",
         "hovertemplate": "color=Southampton<br>x=%{x}<br>y=%{y}<extra></extra>",
         "legendgroup": "Southampton",
         "marker": {
          "color": "#D71920",
          "pattern": {
           "shape": ""
          }
         },
         "name": "Southampton",
         "offsetgroup": "Southampton",
         "orientation": "v",
         "showlegend": true,
         "textposition": "auto",
         "type": "bar",
         "x": [
          "Southampton"
         ],
         "xaxis": "x",
         "y": [
          9.090909090909092
         ],
         "yaxis": "y"
        },
        {
         "alignmentgroup": "True",
         "hovertemplate": "color=Crystal-Palace<br>x=%{x}<br>y=%{y}<extra></extra>",
         "legendgroup": "Crystal-Palace",
         "marker": {
          "color": "#1B458F",
          "pattern": {
           "shape": ""
          }
         },
         "name": "Crystal-Palace",
         "offsetgroup": "Crystal-Palace",
         "orientation": "v",
         "showlegend": true,
         "textposition": "auto",
         "type": "bar",
         "x": [
          "Crystal-Palace"
         ],
         "xaxis": "x",
         "y": [
          9.090909090909092
         ],
         "yaxis": "y"
        },
        {
         "alignmentgroup": "True",
         "hovertemplate": "color=Wolverhampton-Wanderers<br>x=%{x}<br>y=%{y}<extra></extra>",
         "legendgroup": "Wolverhampton-Wanderers",
         "marker": {
          "color": "#FDB913",
          "pattern": {
           "shape": ""
          }
         },
         "name": "Wolverhampton-Wanderers",
         "offsetgroup": "Wolverhampton-Wanderers",
         "orientation": "v",
         "showlegend": true,
         "textposition": "auto",
         "type": "bar",
         "x": [
          "Wolverhampton-Wanderers"
         ],
         "xaxis": "x",
         "y": [
          9.090909090909092
         ],
         "yaxis": "y"
        }
       ],
       "layout": {
        "barmode": "relative",
        "height": 400,
        "legend": {
         "title": {
          "text": "color"
         },
         "tracegroupgap": 0
        },
        "margin": {
         "b": 50,
         "l": 50,
         "r": 50,
         "t": 100
        },
        "paper_bgcolor": "white",
        "plot_bgcolor": "white",
        "showlegend": false,
        "template": {
         "data": {
          "bar": [
           {
            "error_x": {
             "color": "#2a3f5f"
            },
            "error_y": {
             "color": "#2a3f5f"
            },
            "marker": {
             "line": {
              "color": "#E5ECF6",
              "width": 0.5
             },
             "pattern": {
              "fillmode": "overlay",
              "size": 10,
              "solidity": 0.2
             }
            },
            "type": "bar"
           }
          ],
          "barpolar": [
           {
            "marker": {
             "line": {
              "color": "#E5ECF6",
              "width": 0.5
             },
             "pattern": {
              "fillmode": "overlay",
              "size": 10,
              "solidity": 0.2
             }
            },
            "type": "barpolar"
           }
          ],
          "carpet": [
           {
            "aaxis": {
             "endlinecolor": "#2a3f5f",
             "gridcolor": "white",
             "linecolor": "white",
             "minorgridcolor": "white",
             "startlinecolor": "#2a3f5f"
            },
            "baxis": {
             "endlinecolor": "#2a3f5f",
             "gridcolor": "white",
             "linecolor": "white",
             "minorgridcolor": "white",
             "startlinecolor": "#2a3f5f"
            },
            "type": "carpet"
           }
          ],
          "choropleth": [
           {
            "colorbar": {
             "outlinewidth": 0,
             "ticks": ""
            },
            "type": "choropleth"
           }
          ],
          "contour": [
           {
            "colorbar": {
             "outlinewidth": 0,
             "ticks": ""
            },
            "colorscale": [
             [
              0,
              "#0d0887"
             ],
             [
              0.1111111111111111,
              "#46039f"
             ],
             [
              0.2222222222222222,
              "#7201a8"
             ],
             [
              0.3333333333333333,
              "#9c179e"
             ],
             [
              0.4444444444444444,
              "#bd3786"
             ],
             [
              0.5555555555555556,
              "#d8576b"
             ],
             [
              0.6666666666666666,
              "#ed7953"
             ],
             [
              0.7777777777777778,
              "#fb9f3a"
             ],
             [
              0.8888888888888888,
              "#fdca26"
             ],
             [
              1,
              "#f0f921"
             ]
            ],
            "type": "contour"
           }
          ],
          "contourcarpet": [
           {
            "colorbar": {
             "outlinewidth": 0,
             "ticks": ""
            },
            "type": "contourcarpet"
           }
          ],
          "heatmap": [
           {
            "colorbar": {
             "outlinewidth": 0,
             "ticks": ""
            },
            "colorscale": [
             [
              0,
              "#0d0887"
             ],
             [
              0.1111111111111111,
              "#46039f"
             ],
             [
              0.2222222222222222,
              "#7201a8"
             ],
             [
              0.3333333333333333,
              "#9c179e"
             ],
             [
              0.4444444444444444,
              "#bd3786"
             ],
             [
              0.5555555555555556,
              "#d8576b"
             ],
             [
              0.6666666666666666,
              "#ed7953"
             ],
             [
              0.7777777777777778,
              "#fb9f3a"
             ],
             [
              0.8888888888888888,
              "#fdca26"
             ],
             [
              1,
              "#f0f921"
             ]
            ],
            "type": "heatmap"
           }
          ],
          "heatmapgl": [
           {
            "colorbar": {
             "outlinewidth": 0,
             "ticks": ""
            },
            "colorscale": [
             [
              0,
              "#0d0887"
             ],
             [
              0.1111111111111111,
              "#46039f"
             ],
             [
              0.2222222222222222,
              "#7201a8"
             ],
             [
              0.3333333333333333,
              "#9c179e"
             ],
             [
              0.4444444444444444,
              "#bd3786"
             ],
             [
              0.5555555555555556,
              "#d8576b"
             ],
             [
              0.6666666666666666,
              "#ed7953"
             ],
             [
              0.7777777777777778,
              "#fb9f3a"
             ],
             [
              0.8888888888888888,
              "#fdca26"
             ],
             [
              1,
              "#f0f921"
             ]
            ],
            "type": "heatmapgl"
           }
          ],
          "histogram": [
           {
            "marker": {
             "pattern": {
              "fillmode": "overlay",
              "size": 10,
              "solidity": 0.2
             }
            },
            "type": "histogram"
           }
          ],
          "histogram2d": [
           {
            "colorbar": {
             "outlinewidth": 0,
             "ticks": ""
            },
            "colorscale": [
             [
              0,
              "#0d0887"
             ],
             [
              0.1111111111111111,
              "#46039f"
             ],
             [
              0.2222222222222222,
              "#7201a8"
             ],
             [
              0.3333333333333333,
              "#9c179e"
             ],
             [
              0.4444444444444444,
              "#bd3786"
             ],
             [
              0.5555555555555556,
              "#d8576b"
             ],
             [
              0.6666666666666666,
              "#ed7953"
             ],
             [
              0.7777777777777778,
              "#fb9f3a"
             ],
             [
              0.8888888888888888,
              "#fdca26"
             ],
             [
              1,
              "#f0f921"
             ]
            ],
            "type": "histogram2d"
           }
          ],
          "histogram2dcontour": [
           {
            "colorbar": {
             "outlinewidth": 0,
             "ticks": ""
            },
            "colorscale": [
             [
              0,
              "#0d0887"
             ],
             [
              0.1111111111111111,
              "#46039f"
             ],
             [
              0.2222222222222222,
              "#7201a8"
             ],
             [
              0.3333333333333333,
              "#9c179e"
             ],
             [
              0.4444444444444444,
              "#bd3786"
             ],
             [
              0.5555555555555556,
              "#d8576b"
             ],
             [
              0.6666666666666666,
              "#ed7953"
             ],
             [
              0.7777777777777778,
              "#fb9f3a"
             ],
             [
              0.8888888888888888,
              "#fdca26"
             ],
             [
              1,
              "#f0f921"
             ]
            ],
            "type": "histogram2dcontour"
           }
          ],
          "mesh3d": [
           {
            "colorbar": {
             "outlinewidth": 0,
             "ticks": ""
            },
            "type": "mesh3d"
           }
          ],
          "parcoords": [
           {
            "line": {
             "colorbar": {
              "outlinewidth": 0,
              "ticks": ""
             }
            },
            "type": "parcoords"
           }
          ],
          "pie": [
           {
            "automargin": true,
            "type": "pie"
           }
          ],
          "scatter": [
           {
            "fillpattern": {
             "fillmode": "overlay",
             "size": 10,
             "solidity": 0.2
            },
            "type": "scatter"
           }
          ],
          "scatter3d": [
           {
            "line": {
             "colorbar": {
              "outlinewidth": 0,
              "ticks": ""
             }
            },
            "marker": {
             "colorbar": {
              "outlinewidth": 0,
              "ticks": ""
             }
            },
            "type": "scatter3d"
           }
          ],
          "scattercarpet": [
           {
            "marker": {
             "colorbar": {
              "outlinewidth": 0,
              "ticks": ""
             }
            },
            "type": "scattercarpet"
           }
          ],
          "scattergeo": [
           {
            "marker": {
             "colorbar": {
              "outlinewidth": 0,
              "ticks": ""
             }
            },
            "type": "scattergeo"
           }
          ],
          "scattergl": [
           {
            "marker": {
             "colorbar": {
              "outlinewidth": 0,
              "ticks": ""
             }
            },
            "type": "scattergl"
           }
          ],
          "scattermapbox": [
           {
            "marker": {
             "colorbar": {
              "outlinewidth": 0,
              "ticks": ""
             }
            },
            "type": "scattermapbox"
           }
          ],
          "scatterpolar": [
           {
            "marker": {
             "colorbar": {
              "outlinewidth": 0,
              "ticks": ""
             }
            },
            "type": "scatterpolar"
           }
          ],
          "scatterpolargl": [
           {
            "marker": {
             "colorbar": {
              "outlinewidth": 0,
              "ticks": ""
             }
            },
            "type": "scatterpolargl"
           }
          ],
          "scatterternary": [
           {
            "marker": {
             "colorbar": {
              "outlinewidth": 0,
              "ticks": ""
             }
            },
            "type": "scatterternary"
           }
          ],
          "surface": [
           {
            "colorbar": {
             "outlinewidth": 0,
             "ticks": ""
            },
            "colorscale": [
             [
              0,
              "#0d0887"
             ],
             [
              0.1111111111111111,
              "#46039f"
             ],
             [
              0.2222222222222222,
              "#7201a8"
             ],
             [
              0.3333333333333333,
              "#9c179e"
             ],
             [
              0.4444444444444444,
              "#bd3786"
             ],
             [
              0.5555555555555556,
              "#d8576b"
             ],
             [
              0.6666666666666666,
              "#ed7953"
             ],
             [
              0.7777777777777778,
              "#fb9f3a"
             ],
             [
              0.8888888888888888,
              "#fdca26"
             ],
             [
              1,
              "#f0f921"
             ]
            ],
            "type": "surface"
           }
          ],
          "table": [
           {
            "cells": {
             "fill": {
              "color": "#EBF0F8"
             },
             "line": {
              "color": "white"
             }
            },
            "header": {
             "fill": {
              "color": "#C8D4E3"
             },
             "line": {
              "color": "white"
             }
            },
            "type": "table"
           }
          ]
         },
         "layout": {
          "annotationdefaults": {
           "arrowcolor": "#2a3f5f",
           "arrowhead": 0,
           "arrowwidth": 1
          },
          "autotypenumbers": "strict",
          "coloraxis": {
           "colorbar": {
            "outlinewidth": 0,
            "ticks": ""
           }
          },
          "colorscale": {
           "diverging": [
            [
             0,
             "#8e0152"
            ],
            [
             0.1,
             "#c51b7d"
            ],
            [
             0.2,
             "#de77ae"
            ],
            [
             0.3,
             "#f1b6da"
            ],
            [
             0.4,
             "#fde0ef"
            ],
            [
             0.5,
             "#f7f7f7"
            ],
            [
             0.6,
             "#e6f5d0"
            ],
            [
             0.7,
             "#b8e186"
            ],
            [
             0.8,
             "#7fbc41"
            ],
            [
             0.9,
             "#4d9221"
            ],
            [
             1,
             "#276419"
            ]
           ],
           "sequential": [
            [
             0,
             "#0d0887"
            ],
            [
             0.1111111111111111,
             "#46039f"
            ],
            [
             0.2222222222222222,
             "#7201a8"
            ],
            [
             0.3333333333333333,
             "#9c179e"
            ],
            [
             0.4444444444444444,
             "#bd3786"
            ],
            [
             0.5555555555555556,
             "#d8576b"
            ],
            [
             0.6666666666666666,
             "#ed7953"
            ],
            [
             0.7777777777777778,
             "#fb9f3a"
            ],
            [
             0.8888888888888888,
             "#fdca26"
            ],
            [
             1,
             "#f0f921"
            ]
           ],
           "sequentialminus": [
            [
             0,
             "#0d0887"
            ],
            [
             0.1111111111111111,
             "#46039f"
            ],
            [
             0.2222222222222222,
             "#7201a8"
            ],
            [
             0.3333333333333333,
             "#9c179e"
            ],
            [
             0.4444444444444444,
             "#bd3786"
            ],
            [
             0.5555555555555556,
             "#d8576b"
            ],
            [
             0.6666666666666666,
             "#ed7953"
            ],
            [
             0.7777777777777778,
             "#fb9f3a"
            ],
            [
             0.8888888888888888,
             "#fdca26"
            ],
            [
             1,
             "#f0f921"
            ]
           ]
          },
          "colorway": [
           "#636efa",
           "#EF553B",
           "#00cc96",
           "#ab63fa",
           "#FFA15A",
           "#19d3f3",
           "#FF6692",
           "#B6E880",
           "#FF97FF",
           "#FECB52"
          ],
          "font": {
           "color": "#2a3f5f"
          },
          "geo": {
           "bgcolor": "white",
           "lakecolor": "white",
           "landcolor": "#E5ECF6",
           "showlakes": true,
           "showland": true,
           "subunitcolor": "white"
          },
          "hoverlabel": {
           "align": "left"
          },
          "hovermode": "closest",
          "mapbox": {
           "style": "light"
          },
          "paper_bgcolor": "white",
          "plot_bgcolor": "#E5ECF6",
          "polar": {
           "angularaxis": {
            "gridcolor": "white",
            "linecolor": "white",
            "ticks": ""
           },
           "bgcolor": "#E5ECF6",
           "radialaxis": {
            "gridcolor": "white",
            "linecolor": "white",
            "ticks": ""
           }
          },
          "scene": {
           "xaxis": {
            "backgroundcolor": "#E5ECF6",
            "gridcolor": "white",
            "gridwidth": 2,
            "linecolor": "white",
            "showbackground": true,
            "ticks": "",
            "zerolinecolor": "white"
           },
           "yaxis": {
            "backgroundcolor": "#E5ECF6",
            "gridcolor": "white",
            "gridwidth": 2,
            "linecolor": "white",
            "showbackground": true,
            "ticks": "",
            "zerolinecolor": "white"
           },
           "zaxis": {
            "backgroundcolor": "#E5ECF6",
            "gridcolor": "white",
            "gridwidth": 2,
            "linecolor": "white",
            "showbackground": true,
            "ticks": "",
            "zerolinecolor": "white"
           }
          },
          "shapedefaults": {
           "line": {
            "color": "#2a3f5f"
           }
          },
          "ternary": {
           "aaxis": {
            "gridcolor": "white",
            "linecolor": "white",
            "ticks": ""
           },
           "baxis": {
            "gridcolor": "white",
            "linecolor": "white",
            "ticks": ""
           },
           "bgcolor": "#E5ECF6",
           "caxis": {
            "gridcolor": "white",
            "linecolor": "white",
            "ticks": ""
           }
          },
          "title": {
           "x": 0.05
          },
          "xaxis": {
           "automargin": true,
           "gridcolor": "white",
           "linecolor": "white",
           "ticks": "",
           "title": {
            "standoff": 15
           },
           "zerolinecolor": "white",
           "zerolinewidth": 2
          },
          "yaxis": {
           "automargin": true,
           "gridcolor": "white",
           "linecolor": "white",
           "ticks": "",
           "title": {
            "standoff": 15
           },
           "zerolinecolor": "white",
           "zerolinewidth": 2
          }
         }
        },
        "title": {
         "font": {
          "color": "#2F2F2F",
          "family": "Arial Black",
          "size": 24
         },
         "text": "Win Rate by Team (%)",
         "x": 0.5,
         "y": 0.95
        },
        "width": 900,
        "xaxis": {
         "anchor": "y",
         "domain": [
          0,
          1
         ],
         "gridcolor": "lightgrey",
         "gridwidth": 0.5,
         "tickangle": 45,
         "tickfont": {
          "color": "#2F2F2F",
          "family": "Arial",
          "size": 12
         },
         "title": {}
        },
        "yaxis": {
         "anchor": "x",
         "domain": [
          0,
          1
         ],
         "gridcolor": "lightgrey",
         "gridwidth": 0.5,
         "tickfont": {
          "color": "#2F2F2F",
          "family": "Arial",
          "size": 12
         },
         "title": {
          "text": "Win Rate (%)"
         }
        }
       }
      }
     },
     "metadata": {},
     "output_type": "display_data"
    }
   ],
   "source": [
    "# Calculate win rates by team (unchanged)\n",
    "win_rates = (df.groupby('team')['result']\n",
    "             .apply(lambda x: (x == 'W').mean() * 100)\n",
    "             .sort_values(ascending=False))\n",
    "\n",
    "# Create bar plot with plotly using team colors\n",
    "fig = px.bar(\n",
    "    x=win_rates.index, \n",
    "    y=win_rates.values,\n",
    "    color=win_rates.index,\n",
    "    color_discrete_map=TEAM_COLORS,\n",
    "    title='Win Rate by Team (%)'\n",
    ")\n",
    "\n",
    "# Apply consistent layout\n",
    "fig.update_layout(\n",
    "    create_plotly_layout(\n",
    "        title='Win Rate by Team (%)',\n",
    "        width=900,\n",
    "        height=400\n",
    "    )\n",
    ")\n",
    "\n",
    "# Add specific customization for this plot\n",
    "fig.update_xaxes(tickangle=45)\n",
    "fig.update_yaxes(title='Win Rate (%)')\n",
    "\n",
    "fig.show()"
   ]
  },
  {
   "cell_type": "markdown",
   "metadata": {},
   "source": [
    "### Distributions"
   ]
  },
  {
   "cell_type": "code",
   "execution_count": 14,
   "metadata": {},
   "outputs": [
    {
     "data": {
      "application/vnd.plotly.v1+json": {
       "config": {
        "plotlyServerURL": "https://plot.ly"
       },
       "data": [
        {
         "alignmentgroup": "True",
         "bingroup": "x",
         "hovertemplate": "goals_for=%{x}<br>count=%{y}<extra></extra>",
         "legendgroup": "",
         "marker": {
          "color": "#fc8d59",
          "pattern": {
           "shape": ""
          }
         },
         "name": "",
         "nbinsx": 7,
         "offsetgroup": "",
         "orientation": "v",
         "showlegend": false,
         "type": "histogram",
         "x": [
          2,
          2,
          3,
          0,
          3,
          2,
          1,
          2,
          2,
          2,
          2,
          2,
          4,
          3,
          2,
          2,
          1,
          3,
          2,
          1,
          1,
          1,
          0,
          6,
          1,
          1,
          3,
          4,
          1,
          1,
          2,
          1,
          1,
          2,
          2,
          1,
          1,
          2,
          4,
          3,
          0,
          2,
          0,
          1,
          1,
          1,
          1,
          1,
          2,
          0,
          1,
          1,
          3,
          3,
          1,
          3,
          2,
          1,
          0,
          2,
          2,
          3,
          1,
          2,
          1,
          2,
          0,
          2,
          1,
          1,
          3,
          1,
          2,
          1,
          1,
          2,
          2,
          1,
          1,
          2,
          2,
          1,
          1,
          0,
          0,
          1,
          1,
          3,
          2,
          0,
          2,
          3,
          3,
          2,
          0,
          3,
          1,
          1,
          0,
          1,
          4,
          1,
          0,
          3,
          3,
          2,
          4,
          0,
          4,
          1,
          2,
          0,
          3,
          1,
          1,
          1,
          5,
          1,
          4,
          1,
          3,
          1,
          1,
          3,
          0,
          0,
          3,
          0,
          2,
          1,
          2,
          2,
          1,
          1,
          0,
          3,
          0,
          0,
          0,
          2,
          1,
          1,
          3,
          1,
          2,
          1,
          1,
          0,
          1,
          4,
          1,
          2,
          0,
          0,
          1,
          1,
          1,
          2,
          1,
          2,
          1,
          3,
          1,
          1,
          0,
          0,
          0,
          2,
          2,
          1,
          2,
          0,
          2,
          1,
          0,
          0,
          0,
          1,
          1,
          0,
          1,
          2,
          1,
          0,
          3,
          1,
          2,
          1,
          0,
          1,
          2,
          0,
          1,
          0,
          0,
          1,
          2,
          0,
          0,
          2,
          1,
          1,
          1,
          1,
          3,
          1,
          2,
          2,
          2,
          0,
          0,
          1,
          0,
          1,
          1,
          1,
          2,
          0,
          1,
          0
         ],
         "xaxis": "x",
         "yaxis": "y"
        }
       ],
       "layout": {
        "barmode": "relative",
        "height": 700,
        "legend": {
         "tracegroupgap": 0
        },
        "margin": {
         "b": 50,
         "l": 50,
         "r": 50,
         "t": 100
        },
        "paper_bgcolor": "white",
        "plot_bgcolor": "white",
        "showlegend": false,
        "template": {
         "data": {
          "bar": [
           {
            "error_x": {
             "color": "#2a3f5f"
            },
            "error_y": {
             "color": "#2a3f5f"
            },
            "marker": {
             "line": {
              "color": "#E5ECF6",
              "width": 0.5
             },
             "pattern": {
              "fillmode": "overlay",
              "size": 10,
              "solidity": 0.2
             }
            },
            "type": "bar"
           }
          ],
          "barpolar": [
           {
            "marker": {
             "line": {
              "color": "#E5ECF6",
              "width": 0.5
             },
             "pattern": {
              "fillmode": "overlay",
              "size": 10,
              "solidity": 0.2
             }
            },
            "type": "barpolar"
           }
          ],
          "carpet": [
           {
            "aaxis": {
             "endlinecolor": "#2a3f5f",
             "gridcolor": "white",
             "linecolor": "white",
             "minorgridcolor": "white",
             "startlinecolor": "#2a3f5f"
            },
            "baxis": {
             "endlinecolor": "#2a3f5f",
             "gridcolor": "white",
             "linecolor": "white",
             "minorgridcolor": "white",
             "startlinecolor": "#2a3f5f"
            },
            "type": "carpet"
           }
          ],
          "choropleth": [
           {
            "colorbar": {
             "outlinewidth": 0,
             "ticks": ""
            },
            "type": "choropleth"
           }
          ],
          "contour": [
           {
            "colorbar": {
             "outlinewidth": 0,
             "ticks": ""
            },
            "colorscale": [
             [
              0,
              "#0d0887"
             ],
             [
              0.1111111111111111,
              "#46039f"
             ],
             [
              0.2222222222222222,
              "#7201a8"
             ],
             [
              0.3333333333333333,
              "#9c179e"
             ],
             [
              0.4444444444444444,
              "#bd3786"
             ],
             [
              0.5555555555555556,
              "#d8576b"
             ],
             [
              0.6666666666666666,
              "#ed7953"
             ],
             [
              0.7777777777777778,
              "#fb9f3a"
             ],
             [
              0.8888888888888888,
              "#fdca26"
             ],
             [
              1,
              "#f0f921"
             ]
            ],
            "type": "contour"
           }
          ],
          "contourcarpet": [
           {
            "colorbar": {
             "outlinewidth": 0,
             "ticks": ""
            },
            "type": "contourcarpet"
           }
          ],
          "heatmap": [
           {
            "colorbar": {
             "outlinewidth": 0,
             "ticks": ""
            },
            "colorscale": [
             [
              0,
              "#0d0887"
             ],
             [
              0.1111111111111111,
              "#46039f"
             ],
             [
              0.2222222222222222,
              "#7201a8"
             ],
             [
              0.3333333333333333,
              "#9c179e"
             ],
             [
              0.4444444444444444,
              "#bd3786"
             ],
             [
              0.5555555555555556,
              "#d8576b"
             ],
             [
              0.6666666666666666,
              "#ed7953"
             ],
             [
              0.7777777777777778,
              "#fb9f3a"
             ],
             [
              0.8888888888888888,
              "#fdca26"
             ],
             [
              1,
              "#f0f921"
             ]
            ],
            "type": "heatmap"
           }
          ],
          "heatmapgl": [
           {
            "colorbar": {
             "outlinewidth": 0,
             "ticks": ""
            },
            "colorscale": [
             [
              0,
              "#0d0887"
             ],
             [
              0.1111111111111111,
              "#46039f"
             ],
             [
              0.2222222222222222,
              "#7201a8"
             ],
             [
              0.3333333333333333,
              "#9c179e"
             ],
             [
              0.4444444444444444,
              "#bd3786"
             ],
             [
              0.5555555555555556,
              "#d8576b"
             ],
             [
              0.6666666666666666,
              "#ed7953"
             ],
             [
              0.7777777777777778,
              "#fb9f3a"
             ],
             [
              0.8888888888888888,
              "#fdca26"
             ],
             [
              1,
              "#f0f921"
             ]
            ],
            "type": "heatmapgl"
           }
          ],
          "histogram": [
           {
            "marker": {
             "pattern": {
              "fillmode": "overlay",
              "size": 10,
              "solidity": 0.2
             }
            },
            "type": "histogram"
           }
          ],
          "histogram2d": [
           {
            "colorbar": {
             "outlinewidth": 0,
             "ticks": ""
            },
            "colorscale": [
             [
              0,
              "#0d0887"
             ],
             [
              0.1111111111111111,
              "#46039f"
             ],
             [
              0.2222222222222222,
              "#7201a8"
             ],
             [
              0.3333333333333333,
              "#9c179e"
             ],
             [
              0.4444444444444444,
              "#bd3786"
             ],
             [
              0.5555555555555556,
              "#d8576b"
             ],
             [
              0.6666666666666666,
              "#ed7953"
             ],
             [
              0.7777777777777778,
              "#fb9f3a"
             ],
             [
              0.8888888888888888,
              "#fdca26"
             ],
             [
              1,
              "#f0f921"
             ]
            ],
            "type": "histogram2d"
           }
          ],
          "histogram2dcontour": [
           {
            "colorbar": {
             "outlinewidth": 0,
             "ticks": ""
            },
            "colorscale": [
             [
              0,
              "#0d0887"
             ],
             [
              0.1111111111111111,
              "#46039f"
             ],
             [
              0.2222222222222222,
              "#7201a8"
             ],
             [
              0.3333333333333333,
              "#9c179e"
             ],
             [
              0.4444444444444444,
              "#bd3786"
             ],
             [
              0.5555555555555556,
              "#d8576b"
             ],
             [
              0.6666666666666666,
              "#ed7953"
             ],
             [
              0.7777777777777778,
              "#fb9f3a"
             ],
             [
              0.8888888888888888,
              "#fdca26"
             ],
             [
              1,
              "#f0f921"
             ]
            ],
            "type": "histogram2dcontour"
           }
          ],
          "mesh3d": [
           {
            "colorbar": {
             "outlinewidth": 0,
             "ticks": ""
            },
            "type": "mesh3d"
           }
          ],
          "parcoords": [
           {
            "line": {
             "colorbar": {
              "outlinewidth": 0,
              "ticks": ""
             }
            },
            "type": "parcoords"
           }
          ],
          "pie": [
           {
            "automargin": true,
            "type": "pie"
           }
          ],
          "scatter": [
           {
            "fillpattern": {
             "fillmode": "overlay",
             "size": 10,
             "solidity": 0.2
            },
            "type": "scatter"
           }
          ],
          "scatter3d": [
           {
            "line": {
             "colorbar": {
              "outlinewidth": 0,
              "ticks": ""
             }
            },
            "marker": {
             "colorbar": {
              "outlinewidth": 0,
              "ticks": ""
             }
            },
            "type": "scatter3d"
           }
          ],
          "scattercarpet": [
           {
            "marker": {
             "colorbar": {
              "outlinewidth": 0,
              "ticks": ""
             }
            },
            "type": "scattercarpet"
           }
          ],
          "scattergeo": [
           {
            "marker": {
             "colorbar": {
              "outlinewidth": 0,
              "ticks": ""
             }
            },
            "type": "scattergeo"
           }
          ],
          "scattergl": [
           {
            "marker": {
             "colorbar": {
              "outlinewidth": 0,
              "ticks": ""
             }
            },
            "type": "scattergl"
           }
          ],
          "scattermapbox": [
           {
            "marker": {
             "colorbar": {
              "outlinewidth": 0,
              "ticks": ""
             }
            },
            "type": "scattermapbox"
           }
          ],
          "scatterpolar": [
           {
            "marker": {
             "colorbar": {
              "outlinewidth": 0,
              "ticks": ""
             }
            },
            "type": "scatterpolar"
           }
          ],
          "scatterpolargl": [
           {
            "marker": {
             "colorbar": {
              "outlinewidth": 0,
              "ticks": ""
             }
            },
            "type": "scatterpolargl"
           }
          ],
          "scatterternary": [
           {
            "marker": {
             "colorbar": {
              "outlinewidth": 0,
              "ticks": ""
             }
            },
            "type": "scatterternary"
           }
          ],
          "surface": [
           {
            "colorbar": {
             "outlinewidth": 0,
             "ticks": ""
            },
            "colorscale": [
             [
              0,
              "#0d0887"
             ],
             [
              0.1111111111111111,
              "#46039f"
             ],
             [
              0.2222222222222222,
              "#7201a8"
             ],
             [
              0.3333333333333333,
              "#9c179e"
             ],
             [
              0.4444444444444444,
              "#bd3786"
             ],
             [
              0.5555555555555556,
              "#d8576b"
             ],
             [
              0.6666666666666666,
              "#ed7953"
             ],
             [
              0.7777777777777778,
              "#fb9f3a"
             ],
             [
              0.8888888888888888,
              "#fdca26"
             ],
             [
              1,
              "#f0f921"
             ]
            ],
            "type": "surface"
           }
          ],
          "table": [
           {
            "cells": {
             "fill": {
              "color": "#EBF0F8"
             },
             "line": {
              "color": "white"
             }
            },
            "header": {
             "fill": {
              "color": "#C8D4E3"
             },
             "line": {
              "color": "white"
             }
            },
            "type": "table"
           }
          ]
         },
         "layout": {
          "annotationdefaults": {
           "arrowcolor": "#2a3f5f",
           "arrowhead": 0,
           "arrowwidth": 1
          },
          "autotypenumbers": "strict",
          "coloraxis": {
           "colorbar": {
            "outlinewidth": 0,
            "ticks": ""
           }
          },
          "colorscale": {
           "diverging": [
            [
             0,
             "#8e0152"
            ],
            [
             0.1,
             "#c51b7d"
            ],
            [
             0.2,
             "#de77ae"
            ],
            [
             0.3,
             "#f1b6da"
            ],
            [
             0.4,
             "#fde0ef"
            ],
            [
             0.5,
             "#f7f7f7"
            ],
            [
             0.6,
             "#e6f5d0"
            ],
            [
             0.7,
             "#b8e186"
            ],
            [
             0.8,
             "#7fbc41"
            ],
            [
             0.9,
             "#4d9221"
            ],
            [
             1,
             "#276419"
            ]
           ],
           "sequential": [
            [
             0,
             "#0d0887"
            ],
            [
             0.1111111111111111,
             "#46039f"
            ],
            [
             0.2222222222222222,
             "#7201a8"
            ],
            [
             0.3333333333333333,
             "#9c179e"
            ],
            [
             0.4444444444444444,
             "#bd3786"
            ],
            [
             0.5555555555555556,
             "#d8576b"
            ],
            [
             0.6666666666666666,
             "#ed7953"
            ],
            [
             0.7777777777777778,
             "#fb9f3a"
            ],
            [
             0.8888888888888888,
             "#fdca26"
            ],
            [
             1,
             "#f0f921"
            ]
           ],
           "sequentialminus": [
            [
             0,
             "#0d0887"
            ],
            [
             0.1111111111111111,
             "#46039f"
            ],
            [
             0.2222222222222222,
             "#7201a8"
            ],
            [
             0.3333333333333333,
             "#9c179e"
            ],
            [
             0.4444444444444444,
             "#bd3786"
            ],
            [
             0.5555555555555556,
             "#d8576b"
            ],
            [
             0.6666666666666666,
             "#ed7953"
            ],
            [
             0.7777777777777778,
             "#fb9f3a"
            ],
            [
             0.8888888888888888,
             "#fdca26"
            ],
            [
             1,
             "#f0f921"
            ]
           ]
          },
          "colorway": [
           "#636efa",
           "#EF553B",
           "#00cc96",
           "#ab63fa",
           "#FFA15A",
           "#19d3f3",
           "#FF6692",
           "#B6E880",
           "#FF97FF",
           "#FECB52"
          ],
          "font": {
           "color": "#2a3f5f"
          },
          "geo": {
           "bgcolor": "white",
           "lakecolor": "white",
           "landcolor": "#E5ECF6",
           "showlakes": true,
           "showland": true,
           "subunitcolor": "white"
          },
          "hoverlabel": {
           "align": "left"
          },
          "hovermode": "closest",
          "mapbox": {
           "style": "light"
          },
          "paper_bgcolor": "white",
          "plot_bgcolor": "#E5ECF6",
          "polar": {
           "angularaxis": {
            "gridcolor": "white",
            "linecolor": "white",
            "ticks": ""
           },
           "bgcolor": "#E5ECF6",
           "radialaxis": {
            "gridcolor": "white",
            "linecolor": "white",
            "ticks": ""
           }
          },
          "scene": {
           "xaxis": {
            "backgroundcolor": "#E5ECF6",
            "gridcolor": "white",
            "gridwidth": 2,
            "linecolor": "white",
            "showbackground": true,
            "ticks": "",
            "zerolinecolor": "white"
           },
           "yaxis": {
            "backgroundcolor": "#E5ECF6",
            "gridcolor": "white",
            "gridwidth": 2,
            "linecolor": "white",
            "showbackground": true,
            "ticks": "",
            "zerolinecolor": "white"
           },
           "zaxis": {
            "backgroundcolor": "#E5ECF6",
            "gridcolor": "white",
            "gridwidth": 2,
            "linecolor": "white",
            "showbackground": true,
            "ticks": "",
            "zerolinecolor": "white"
           }
          },
          "shapedefaults": {
           "line": {
            "color": "#2a3f5f"
           }
          },
          "ternary": {
           "aaxis": {
            "gridcolor": "white",
            "linecolor": "white",
            "ticks": ""
           },
           "baxis": {
            "gridcolor": "white",
            "linecolor": "white",
            "ticks": ""
           },
           "bgcolor": "#E5ECF6",
           "caxis": {
            "gridcolor": "white",
            "linecolor": "white",
            "ticks": ""
           }
          },
          "title": {
           "x": 0.05
          },
          "xaxis": {
           "automargin": true,
           "gridcolor": "white",
           "linecolor": "white",
           "ticks": "",
           "title": {
            "standoff": 15
           },
           "zerolinecolor": "white",
           "zerolinewidth": 2
          },
          "yaxis": {
           "automargin": true,
           "gridcolor": "white",
           "linecolor": "white",
           "ticks": "",
           "title": {
            "standoff": 15
           },
           "zerolinecolor": "white",
           "zerolinewidth": 2
          }
         }
        },
        "title": {
         "font": {
          "color": "#2F2F2F",
          "family": "Arial Black",
          "size": 24
         },
         "text": "Distribution of Goals per Match",
         "x": 0.5,
         "y": 0.95
        },
        "width": 1000,
        "xaxis": {
         "anchor": "y",
         "domain": [
          0,
          1
         ],
         "dtick": 1,
         "gridcolor": "lightgrey",
         "gridwidth": 0.5,
         "tick0": 0,
         "tickfont": {
          "color": "#2F2F2F",
          "family": "Arial",
          "size": 12
         },
         "tickmode": "linear",
         "title": {
          "text": "Goals Scored"
         }
        },
        "yaxis": {
         "anchor": "x",
         "domain": [
          0,
          1
         ],
         "gridcolor": "lightgrey",
         "gridwidth": 0.5,
         "tickfont": {
          "color": "#2F2F2F",
          "family": "Arial",
          "size": 12
         },
         "title": {
          "text": "Number of Matches"
         }
        }
       }
      }
     },
     "metadata": {},
     "output_type": "display_data"
    }
   ],
   "source": [
    "# Create histogram of goals scored\n",
    "fig = px.histogram(\n",
    "    df,\n",
    "    x='goals_for',\n",
    "    nbins=max(df['goals_for']) - min(df['goals_for']) + 1,  # One bin per possible goal value\n",
    "    color_discrete_sequence=[COLOR_PALETTES['sequential'][3]]  # Use a nice blue from our palette\n",
    ")\n",
    "\n",
    "# Apply consistent layout\n",
    "fig.update_layout(\n",
    "    create_plotly_layout(\n",
    "        title='Distribution of Goals per Match',\n",
    "        width=FIGURE_SIZES['medium'][0] * 100,\n",
    "        height=FIGURE_SIZES['medium'][1] * 100\n",
    "    )\n",
    ")\n",
    "\n",
    "# Add specific customization for this plot\n",
    "fig.update_xaxes(\n",
    "    title='Goals Scored',\n",
    "    tickmode='linear',\n",
    "    tick0=0,\n",
    "    dtick=1\n",
    ")\n",
    "fig.update_yaxes(title='Number of Matches')\n",
    "\n",
    "fig.show()"
   ]
  },
  {
   "cell_type": "markdown",
   "metadata": {},
   "source": [
    "### Goals Minus XG"
   ]
  },
  {
   "cell_type": "code",
   "execution_count": 15,
   "metadata": {},
   "outputs": [
    {
     "data": {
      "application/vnd.plotly.v1+json": {
       "config": {
        "plotlyServerURL": "https://plot.ly"
       },
       "data": [
        {
         "alignmentgroup": "True",
         "hovertemplate": "color=Crystal-Palace<br>x=%{x}<br>y=%{y}<extra></extra>",
         "legendgroup": "Crystal-Palace",
         "marker": {
          "color": "#1B458F",
          "pattern": {
           "shape": ""
          }
         },
         "name": "Crystal-Palace",
         "offsetgroup": "Crystal-Palace",
         "orientation": "v",
         "showlegend": true,
         "textposition": "auto",
         "type": "bar",
         "x": [
          "Crystal-Palace"
         ],
         "xaxis": "x",
         "y": [
          -6.7
         ],
         "yaxis": "y"
        },
        {
         "alignmentgroup": "True",
         "hovertemplate": "color=Manchester-United<br>x=%{x}<br>y=%{y}<extra></extra>",
         "legendgroup": "Manchester-United",
         "marker": {
          "color": "#DA291C",
          "pattern": {
           "shape": ""
          }
         },
         "name": "Manchester-United",
         "offsetgroup": "Manchester-United",
         "orientation": "v",
         "showlegend": true,
         "textposition": "auto",
         "type": "bar",
         "x": [
          "Manchester-United"
         ],
         "xaxis": "x",
         "y": [
          -6.4
         ],
         "yaxis": "y"
        },
        {
         "alignmentgroup": "True",
         "hovertemplate": "color=Southampton<br>x=%{x}<br>y=%{y}<extra></extra>",
         "legendgroup": "Southampton",
         "marker": {
          "color": "#D71920",
          "pattern": {
           "shape": ""
          }
         },
         "name": "Southampton",
         "offsetgroup": "Southampton",
         "orientation": "v",
         "showlegend": true,
         "textposition": "auto",
         "type": "bar",
         "x": [
          "Southampton"
         ],
         "xaxis": "x",
         "y": [
          -4.7
         ],
         "yaxis": "y"
        },
        {
         "alignmentgroup": "True",
         "hovertemplate": "color=Bournemouth<br>x=%{x}<br>y=%{y}<extra></extra>",
         "legendgroup": "Bournemouth",
         "marker": {
          "color": "#DA291C",
          "pattern": {
           "shape": ""
          }
         },
         "name": "Bournemouth",
         "offsetgroup": "Bournemouth",
         "orientation": "v",
         "showlegend": true,
         "textposition": "auto",
         "type": "bar",
         "x": [
          "Bournemouth"
         ],
         "xaxis": "x",
         "y": [
          -3.7
         ],
         "yaxis": "y"
        },
        {
         "alignmentgroup": "True",
         "hovertemplate": "color=Newcastle-United<br>x=%{x}<br>y=%{y}<extra></extra>",
         "legendgroup": "Newcastle-United",
         "marker": {
          "color": "#241F20",
          "pattern": {
           "shape": ""
          }
         },
         "name": "Newcastle-United",
         "offsetgroup": "Newcastle-United",
         "orientation": "v",
         "showlegend": true,
         "textposition": "auto",
         "type": "bar",
         "x": [
          "Newcastle-United"
         ],
         "xaxis": "x",
         "y": [
          -3.3
         ],
         "yaxis": "y"
        },
        {
         "alignmentgroup": "True",
         "hovertemplate": "color=West-Ham-United<br>x=%{x}<br>y=%{y}<extra></extra>",
         "legendgroup": "West-Ham-United",
         "marker": {
          "color": "#7A263A",
          "pattern": {
           "shape": ""
          }
         },
         "name": "West-Ham-United",
         "offsetgroup": "West-Ham-United",
         "orientation": "v",
         "showlegend": true,
         "textposition": "auto",
         "type": "bar",
         "x": [
          "West-Ham-United"
         ],
         "xaxis": "x",
         "y": [
          -3.2
         ],
         "yaxis": "y"
        },
        {
         "alignmentgroup": "True",
         "hovertemplate": "color=Everton<br>x=%{x}<br>y=%{y}<extra></extra>",
         "legendgroup": "Everton",
         "marker": {
          "color": "#003399",
          "pattern": {
           "shape": ""
          }
         },
         "name": "Everton",
         "offsetgroup": "Everton",
         "orientation": "v",
         "showlegend": true,
         "textposition": "auto",
         "type": "bar",
         "x": [
          "Everton"
         ],
         "xaxis": "x",
         "y": [
          -2.1
         ],
         "yaxis": "y"
        },
        {
         "alignmentgroup": "True",
         "hovertemplate": "color=Fulham<br>x=%{x}<br>y=%{y}<extra></extra>",
         "legendgroup": "Fulham",
         "marker": {
          "color": "#000000",
          "pattern": {
           "shape": ""
          }
         },
         "name": "Fulham",
         "offsetgroup": "Fulham",
         "orientation": "v",
         "showlegend": true,
         "textposition": "auto",
         "type": "bar",
         "x": [
          "Fulham"
         ],
         "xaxis": "x",
         "y": [
          -0.8
         ],
         "yaxis": "y"
        },
        {
         "alignmentgroup": "True",
         "hovertemplate": "color=Tottenham-Hotspur<br>x=%{x}<br>y=%{y}<extra></extra>",
         "legendgroup": "Tottenham-Hotspur",
         "marker": {
          "color": "#132257",
          "pattern": {
           "shape": ""
          }
         },
         "name": "Tottenham-Hotspur",
         "offsetgroup": "Tottenham-Hotspur",
         "orientation": "v",
         "showlegend": true,
         "textposition": "auto",
         "type": "bar",
         "x": [
          "Tottenham-Hotspur"
         ],
         "xaxis": "x",
         "y": [
          -0.1999999999999995
         ],
         "yaxis": "y"
        },
        {
         "alignmentgroup": "True",
         "hovertemplate": "color=Aston-Villa<br>x=%{x}<br>y=%{y}<extra></extra>",
         "legendgroup": "Aston-Villa",
         "marker": {
          "color": "#95BFE5",
          "pattern": {
           "shape": ""
          }
         },
         "name": "Aston-Villa",
         "offsetgroup": "Aston-Villa",
         "orientation": "v",
         "showlegend": true,
         "textposition": "auto",
         "type": "bar",
         "x": [
          "Aston-Villa"
         ],
         "xaxis": "x",
         "y": [
          -0.10000000000000009
         ],
         "yaxis": "y"
        },
        {
         "alignmentgroup": "True",
         "hovertemplate": "color=Manchester-City<br>x=%{x}<br>y=%{y}<extra></extra>",
         "legendgroup": "Manchester-City",
         "marker": {
          "color": "#6CABDD",
          "pattern": {
           "shape": ""
          }
         },
         "name": "Manchester-City",
         "offsetgroup": "Manchester-City",
         "orientation": "v",
         "showlegend": true,
         "textposition": "auto",
         "type": "bar",
         "x": [
          "Manchester-City"
         ],
         "xaxis": "x",
         "y": [
          -4.440892098500626e-16
         ],
         "yaxis": "y"
        },
        {
         "alignmentgroup": "True",
         "hovertemplate": "color=Arsenal<br>x=%{x}<br>y=%{y}<extra></extra>",
         "legendgroup": "Arsenal",
         "marker": {
          "color": "#EF0107",
          "pattern": {
           "shape": ""
          }
         },
         "name": "Arsenal",
         "offsetgroup": "Arsenal",
         "orientation": "v",
         "showlegend": true,
         "textposition": "auto",
         "type": "bar",
         "x": [
          "Arsenal"
         ],
         "xaxis": "x",
         "y": [
          2.220446049250313e-16
         ],
         "yaxis": "y"
        },
        {
         "alignmentgroup": "True",
         "hovertemplate": "color=Nottingham-Forest<br>x=%{x}<br>y=%{y}<extra></extra>",
         "legendgroup": "Nottingham-Forest",
         "marker": {
          "color": "#DD0000",
          "pattern": {
           "shape": ""
          }
         },
         "name": "Nottingham-Forest",
         "offsetgroup": "Nottingham-Forest",
         "orientation": "v",
         "showlegend": true,
         "textposition": "auto",
         "type": "bar",
         "x": [
          "Nottingham-Forest"
         ],
         "xaxis": "x",
         "y": [
          0.8000000000000002
         ],
         "yaxis": "y"
        },
        {
         "alignmentgroup": "True",
         "hovertemplate": "color=Liverpool<br>x=%{x}<br>y=%{y}<extra></extra>",
         "legendgroup": "Liverpool",
         "marker": {
          "color": "#C8102E",
          "pattern": {
           "shape": ""
          }
         },
         "name": "Liverpool",
         "offsetgroup": "Liverpool",
         "orientation": "v",
         "showlegend": true,
         "textposition": "auto",
         "type": "bar",
         "x": [
          "Liverpool"
         ],
         "xaxis": "x",
         "y": [
          1
         ],
         "yaxis": "y"
        },
        {
         "alignmentgroup": "True",
         "hovertemplate": "color=Chelsea<br>x=%{x}<br>y=%{y}<extra></extra>",
         "legendgroup": "Chelsea",
         "marker": {
          "color": "#034694",
          "pattern": {
           "shape": ""
          }
         },
         "name": "Chelsea",
         "offsetgroup": "Chelsea",
         "orientation": "v",
         "showlegend": true,
         "textposition": "auto",
         "type": "bar",
         "x": [
          "Chelsea"
         ],
         "xaxis": "x",
         "y": [
          1.3000000000000005
         ],
         "yaxis": "y"
        },
        {
         "alignmentgroup": "True",
         "hovertemplate": "color=Ipswich-Town<br>x=%{x}<br>y=%{y}<extra></extra>",
         "legendgroup": "Ipswich-Town",
         "marker": {
          "color": "#3A64A3",
          "pattern": {
           "shape": ""
          }
         },
         "name": "Ipswich-Town",
         "offsetgroup": "Ipswich-Town",
         "orientation": "v",
         "showlegend": true,
         "textposition": "auto",
         "type": "bar",
         "x": [
          "Ipswich-Town"
         ],
         "xaxis": "x",
         "y": [
          1.9
         ],
         "yaxis": "y"
        },
        {
         "alignmentgroup": "True",
         "hovertemplate": "color=Brighton-and-Hove-Albion<br>x=%{x}<br>y=%{y}<extra></extra>",
         "legendgroup": "Brighton-and-Hove-Albion",
         "marker": {
          "color": "#0057B8",
          "pattern": {
           "shape": ""
          }
         },
         "name": "Brighton-and-Hove-Albion",
         "offsetgroup": "Brighton-and-Hove-Albion",
         "orientation": "v",
         "showlegend": true,
         "textposition": "auto",
         "type": "bar",
         "x": [
          "Brighton-and-Hove-Albion"
         ],
         "xaxis": "x",
         "y": [
          2.6
         ],
         "yaxis": "y"
        },
        {
         "alignmentgroup": "True",
         "hovertemplate": "color=Leicester-City<br>x=%{x}<br>y=%{y}<extra></extra>",
         "legendgroup": "Leicester-City",
         "marker": {
          "color": "#003090",
          "pattern": {
           "shape": ""
          }
         },
         "name": "Leicester-City",
         "offsetgroup": "Leicester-City",
         "orientation": "v",
         "showlegend": true,
         "textposition": "auto",
         "type": "bar",
         "x": [
          "Leicester-City"
         ],
         "xaxis": "x",
         "y": [
          3
         ],
         "yaxis": "y"
        },
        {
         "alignmentgroup": "True",
         "hovertemplate": "color=Brentford<br>x=%{x}<br>y=%{y}<extra></extra>",
         "legendgroup": "Brentford",
         "marker": {
          "color": "#e30613",
          "pattern": {
           "shape": ""
          }
         },
         "name": "Brentford",
         "offsetgroup": "Brentford",
         "orientation": "v",
         "showlegend": true,
         "textposition": "auto",
         "type": "bar",
         "x": [
          "Brentford"
         ],
         "xaxis": "x",
         "y": [
          3.7
         ],
         "yaxis": "y"
        },
        {
         "alignmentgroup": "True",
         "hovertemplate": "color=Wolverhampton-Wanderers<br>x=%{x}<br>y=%{y}<extra></extra>",
         "legendgroup": "Wolverhampton-Wanderers",
         "marker": {
          "color": "#FDB913",
          "pattern": {
           "shape": ""
          }
         },
         "name": "Wolverhampton-Wanderers",
         "offsetgroup": "Wolverhampton-Wanderers",
         "orientation": "v",
         "showlegend": true,
         "textposition": "auto",
         "type": "bar",
         "x": [
          "Wolverhampton-Wanderers"
         ],
         "xaxis": "x",
         "y": [
          4.7
         ],
         "yaxis": "y"
        }
       ],
       "layout": {
        "barmode": "relative",
        "height": 600,
        "legend": {
         "title": {
          "text": "color"
         },
         "tracegroupgap": 0
        },
        "margin": {
         "b": 50,
         "l": 50,
         "r": 50,
         "t": 100
        },
        "paper_bgcolor": "white",
        "plot_bgcolor": "white",
        "shapes": [
         {
          "line": {
           "color": "black",
           "dash": "dash",
           "width": 1
          },
          "type": "line",
          "x0": 0,
          "x1": 1,
          "xref": "x domain",
          "y0": 0,
          "y1": 0,
          "yref": "y"
         }
        ],
        "showlegend": false,
        "template": {
         "data": {
          "bar": [
           {
            "error_x": {
             "color": "#2a3f5f"
            },
            "error_y": {
             "color": "#2a3f5f"
            },
            "marker": {
             "line": {
              "color": "#E5ECF6",
              "width": 0.5
             },
             "pattern": {
              "fillmode": "overlay",
              "size": 10,
              "solidity": 0.2
             }
            },
            "type": "bar"
           }
          ],
          "barpolar": [
           {
            "marker": {
             "line": {
              "color": "#E5ECF6",
              "width": 0.5
             },
             "pattern": {
              "fillmode": "overlay",
              "size": 10,
              "solidity": 0.2
             }
            },
            "type": "barpolar"
           }
          ],
          "carpet": [
           {
            "aaxis": {
             "endlinecolor": "#2a3f5f",
             "gridcolor": "white",
             "linecolor": "white",
             "minorgridcolor": "white",
             "startlinecolor": "#2a3f5f"
            },
            "baxis": {
             "endlinecolor": "#2a3f5f",
             "gridcolor": "white",
             "linecolor": "white",
             "minorgridcolor": "white",
             "startlinecolor": "#2a3f5f"
            },
            "type": "carpet"
           }
          ],
          "choropleth": [
           {
            "colorbar": {
             "outlinewidth": 0,
             "ticks": ""
            },
            "type": "choropleth"
           }
          ],
          "contour": [
           {
            "colorbar": {
             "outlinewidth": 0,
             "ticks": ""
            },
            "colorscale": [
             [
              0,
              "#0d0887"
             ],
             [
              0.1111111111111111,
              "#46039f"
             ],
             [
              0.2222222222222222,
              "#7201a8"
             ],
             [
              0.3333333333333333,
              "#9c179e"
             ],
             [
              0.4444444444444444,
              "#bd3786"
             ],
             [
              0.5555555555555556,
              "#d8576b"
             ],
             [
              0.6666666666666666,
              "#ed7953"
             ],
             [
              0.7777777777777778,
              "#fb9f3a"
             ],
             [
              0.8888888888888888,
              "#fdca26"
             ],
             [
              1,
              "#f0f921"
             ]
            ],
            "type": "contour"
           }
          ],
          "contourcarpet": [
           {
            "colorbar": {
             "outlinewidth": 0,
             "ticks": ""
            },
            "type": "contourcarpet"
           }
          ],
          "heatmap": [
           {
            "colorbar": {
             "outlinewidth": 0,
             "ticks": ""
            },
            "colorscale": [
             [
              0,
              "#0d0887"
             ],
             [
              0.1111111111111111,
              "#46039f"
             ],
             [
              0.2222222222222222,
              "#7201a8"
             ],
             [
              0.3333333333333333,
              "#9c179e"
             ],
             [
              0.4444444444444444,
              "#bd3786"
             ],
             [
              0.5555555555555556,
              "#d8576b"
             ],
             [
              0.6666666666666666,
              "#ed7953"
             ],
             [
              0.7777777777777778,
              "#fb9f3a"
             ],
             [
              0.8888888888888888,
              "#fdca26"
             ],
             [
              1,
              "#f0f921"
             ]
            ],
            "type": "heatmap"
           }
          ],
          "heatmapgl": [
           {
            "colorbar": {
             "outlinewidth": 0,
             "ticks": ""
            },
            "colorscale": [
             [
              0,
              "#0d0887"
             ],
             [
              0.1111111111111111,
              "#46039f"
             ],
             [
              0.2222222222222222,
              "#7201a8"
             ],
             [
              0.3333333333333333,
              "#9c179e"
             ],
             [
              0.4444444444444444,
              "#bd3786"
             ],
             [
              0.5555555555555556,
              "#d8576b"
             ],
             [
              0.6666666666666666,
              "#ed7953"
             ],
             [
              0.7777777777777778,
              "#fb9f3a"
             ],
             [
              0.8888888888888888,
              "#fdca26"
             ],
             [
              1,
              "#f0f921"
             ]
            ],
            "type": "heatmapgl"
           }
          ],
          "histogram": [
           {
            "marker": {
             "pattern": {
              "fillmode": "overlay",
              "size": 10,
              "solidity": 0.2
             }
            },
            "type": "histogram"
           }
          ],
          "histogram2d": [
           {
            "colorbar": {
             "outlinewidth": 0,
             "ticks": ""
            },
            "colorscale": [
             [
              0,
              "#0d0887"
             ],
             [
              0.1111111111111111,
              "#46039f"
             ],
             [
              0.2222222222222222,
              "#7201a8"
             ],
             [
              0.3333333333333333,
              "#9c179e"
             ],
             [
              0.4444444444444444,
              "#bd3786"
             ],
             [
              0.5555555555555556,
              "#d8576b"
             ],
             [
              0.6666666666666666,
              "#ed7953"
             ],
             [
              0.7777777777777778,
              "#fb9f3a"
             ],
             [
              0.8888888888888888,
              "#fdca26"
             ],
             [
              1,
              "#f0f921"
             ]
            ],
            "type": "histogram2d"
           }
          ],
          "histogram2dcontour": [
           {
            "colorbar": {
             "outlinewidth": 0,
             "ticks": ""
            },
            "colorscale": [
             [
              0,
              "#0d0887"
             ],
             [
              0.1111111111111111,
              "#46039f"
             ],
             [
              0.2222222222222222,
              "#7201a8"
             ],
             [
              0.3333333333333333,
              "#9c179e"
             ],
             [
              0.4444444444444444,
              "#bd3786"
             ],
             [
              0.5555555555555556,
              "#d8576b"
             ],
             [
              0.6666666666666666,
              "#ed7953"
             ],
             [
              0.7777777777777778,
              "#fb9f3a"
             ],
             [
              0.8888888888888888,
              "#fdca26"
             ],
             [
              1,
              "#f0f921"
             ]
            ],
            "type": "histogram2dcontour"
           }
          ],
          "mesh3d": [
           {
            "colorbar": {
             "outlinewidth": 0,
             "ticks": ""
            },
            "type": "mesh3d"
           }
          ],
          "parcoords": [
           {
            "line": {
             "colorbar": {
              "outlinewidth": 0,
              "ticks": ""
             }
            },
            "type": "parcoords"
           }
          ],
          "pie": [
           {
            "automargin": true,
            "type": "pie"
           }
          ],
          "scatter": [
           {
            "fillpattern": {
             "fillmode": "overlay",
             "size": 10,
             "solidity": 0.2
            },
            "type": "scatter"
           }
          ],
          "scatter3d": [
           {
            "line": {
             "colorbar": {
              "outlinewidth": 0,
              "ticks": ""
             }
            },
            "marker": {
             "colorbar": {
              "outlinewidth": 0,
              "ticks": ""
             }
            },
            "type": "scatter3d"
           }
          ],
          "scattercarpet": [
           {
            "marker": {
             "colorbar": {
              "outlinewidth": 0,
              "ticks": ""
             }
            },
            "type": "scattercarpet"
           }
          ],
          "scattergeo": [
           {
            "marker": {
             "colorbar": {
              "outlinewidth": 0,
              "ticks": ""
             }
            },
            "type": "scattergeo"
           }
          ],
          "scattergl": [
           {
            "marker": {
             "colorbar": {
              "outlinewidth": 0,
              "ticks": ""
             }
            },
            "type": "scattergl"
           }
          ],
          "scattermapbox": [
           {
            "marker": {
             "colorbar": {
              "outlinewidth": 0,
              "ticks": ""
             }
            },
            "type": "scattermapbox"
           }
          ],
          "scatterpolar": [
           {
            "marker": {
             "colorbar": {
              "outlinewidth": 0,
              "ticks": ""
             }
            },
            "type": "scatterpolar"
           }
          ],
          "scatterpolargl": [
           {
            "marker": {
             "colorbar": {
              "outlinewidth": 0,
              "ticks": ""
             }
            },
            "type": "scatterpolargl"
           }
          ],
          "scatterternary": [
           {
            "marker": {
             "colorbar": {
              "outlinewidth": 0,
              "ticks": ""
             }
            },
            "type": "scatterternary"
           }
          ],
          "surface": [
           {
            "colorbar": {
             "outlinewidth": 0,
             "ticks": ""
            },
            "colorscale": [
             [
              0,
              "#0d0887"
             ],
             [
              0.1111111111111111,
              "#46039f"
             ],
             [
              0.2222222222222222,
              "#7201a8"
             ],
             [
              0.3333333333333333,
              "#9c179e"
             ],
             [
              0.4444444444444444,
              "#bd3786"
             ],
             [
              0.5555555555555556,
              "#d8576b"
             ],
             [
              0.6666666666666666,
              "#ed7953"
             ],
             [
              0.7777777777777778,
              "#fb9f3a"
             ],
             [
              0.8888888888888888,
              "#fdca26"
             ],
             [
              1,
              "#f0f921"
             ]
            ],
            "type": "surface"
           }
          ],
          "table": [
           {
            "cells": {
             "fill": {
              "color": "#EBF0F8"
             },
             "line": {
              "color": "white"
             }
            },
            "header": {
             "fill": {
              "color": "#C8D4E3"
             },
             "line": {
              "color": "white"
             }
            },
            "type": "table"
           }
          ]
         },
         "layout": {
          "annotationdefaults": {
           "arrowcolor": "#2a3f5f",
           "arrowhead": 0,
           "arrowwidth": 1
          },
          "autotypenumbers": "strict",
          "coloraxis": {
           "colorbar": {
            "outlinewidth": 0,
            "ticks": ""
           }
          },
          "colorscale": {
           "diverging": [
            [
             0,
             "#8e0152"
            ],
            [
             0.1,
             "#c51b7d"
            ],
            [
             0.2,
             "#de77ae"
            ],
            [
             0.3,
             "#f1b6da"
            ],
            [
             0.4,
             "#fde0ef"
            ],
            [
             0.5,
             "#f7f7f7"
            ],
            [
             0.6,
             "#e6f5d0"
            ],
            [
             0.7,
             "#b8e186"
            ],
            [
             0.8,
             "#7fbc41"
            ],
            [
             0.9,
             "#4d9221"
            ],
            [
             1,
             "#276419"
            ]
           ],
           "sequential": [
            [
             0,
             "#0d0887"
            ],
            [
             0.1111111111111111,
             "#46039f"
            ],
            [
             0.2222222222222222,
             "#7201a8"
            ],
            [
             0.3333333333333333,
             "#9c179e"
            ],
            [
             0.4444444444444444,
             "#bd3786"
            ],
            [
             0.5555555555555556,
             "#d8576b"
            ],
            [
             0.6666666666666666,
             "#ed7953"
            ],
            [
             0.7777777777777778,
             "#fb9f3a"
            ],
            [
             0.8888888888888888,
             "#fdca26"
            ],
            [
             1,
             "#f0f921"
            ]
           ],
           "sequentialminus": [
            [
             0,
             "#0d0887"
            ],
            [
             0.1111111111111111,
             "#46039f"
            ],
            [
             0.2222222222222222,
             "#7201a8"
            ],
            [
             0.3333333333333333,
             "#9c179e"
            ],
            [
             0.4444444444444444,
             "#bd3786"
            ],
            [
             0.5555555555555556,
             "#d8576b"
            ],
            [
             0.6666666666666666,
             "#ed7953"
            ],
            [
             0.7777777777777778,
             "#fb9f3a"
            ],
            [
             0.8888888888888888,
             "#fdca26"
            ],
            [
             1,
             "#f0f921"
            ]
           ]
          },
          "colorway": [
           "#636efa",
           "#EF553B",
           "#00cc96",
           "#ab63fa",
           "#FFA15A",
           "#19d3f3",
           "#FF6692",
           "#B6E880",
           "#FF97FF",
           "#FECB52"
          ],
          "font": {
           "color": "#2a3f5f"
          },
          "geo": {
           "bgcolor": "white",
           "lakecolor": "white",
           "landcolor": "#E5ECF6",
           "showlakes": true,
           "showland": true,
           "subunitcolor": "white"
          },
          "hoverlabel": {
           "align": "left"
          },
          "hovermode": "closest",
          "mapbox": {
           "style": "light"
          },
          "paper_bgcolor": "white",
          "plot_bgcolor": "#E5ECF6",
          "polar": {
           "angularaxis": {
            "gridcolor": "white",
            "linecolor": "white",
            "ticks": ""
           },
           "bgcolor": "#E5ECF6",
           "radialaxis": {
            "gridcolor": "white",
            "linecolor": "white",
            "ticks": ""
           }
          },
          "scene": {
           "xaxis": {
            "backgroundcolor": "#E5ECF6",
            "gridcolor": "white",
            "gridwidth": 2,
            "linecolor": "white",
            "showbackground": true,
            "ticks": "",
            "zerolinecolor": "white"
           },
           "yaxis": {
            "backgroundcolor": "#E5ECF6",
            "gridcolor": "white",
            "gridwidth": 2,
            "linecolor": "white",
            "showbackground": true,
            "ticks": "",
            "zerolinecolor": "white"
           },
           "zaxis": {
            "backgroundcolor": "#E5ECF6",
            "gridcolor": "white",
            "gridwidth": 2,
            "linecolor": "white",
            "showbackground": true,
            "ticks": "",
            "zerolinecolor": "white"
           }
          },
          "shapedefaults": {
           "line": {
            "color": "#2a3f5f"
           }
          },
          "ternary": {
           "aaxis": {
            "gridcolor": "white",
            "linecolor": "white",
            "ticks": ""
           },
           "baxis": {
            "gridcolor": "white",
            "linecolor": "white",
            "ticks": ""
           },
           "bgcolor": "#E5ECF6",
           "caxis": {
            "gridcolor": "white",
            "linecolor": "white",
            "ticks": ""
           }
          },
          "title": {
           "x": 0.05
          },
          "xaxis": {
           "automargin": true,
           "gridcolor": "white",
           "linecolor": "white",
           "ticks": "",
           "title": {
            "standoff": 15
           },
           "zerolinecolor": "white",
           "zerolinewidth": 2
          },
          "yaxis": {
           "automargin": true,
           "gridcolor": "white",
           "linecolor": "white",
           "ticks": "",
           "title": {
            "standoff": 15
           },
           "zerolinecolor": "white",
           "zerolinewidth": 2
          }
         }
        },
        "title": {
         "font": {
          "color": "#2F2F2F",
          "family": "Arial Black",
          "size": 24
         },
         "text": "Goal Scoring Performance vs. Expected",
         "x": 0.5,
         "y": 0.95
        },
        "width": 900,
        "xaxis": {
         "anchor": "y",
         "domain": [
          0,
          1
         ],
         "gridcolor": "lightgrey",
         "gridwidth": 0.5,
         "tickangle": 45,
         "tickfont": {
          "color": "#2F2F2F",
          "family": "Arial",
          "size": 12
         },
         "title": {}
        },
        "yaxis": {
         "anchor": "x",
         "domain": [
          0,
          1
         ],
         "gridcolor": "lightgrey",
         "gridwidth": 0.5,
         "tickfont": {
          "color": "#2F2F2F",
          "family": "Arial",
          "size": 12
         },
         "title": {
          "text": "Goals Above/Below Expected"
         }
        }
       }
      }
     },
     "metadata": {},
     "output_type": "display_data"
    }
   ],
   "source": [
    "# Calculate total goals minus xG for each team\n",
    "goals_vs_xg = (df.groupby('team')['goals_minus_expected_goals']\n",
    "               .sum()\n",
    "               .sort_values(ascending=True))\n",
    "\n",
    "# Create bar plot\n",
    "fig = px.bar(\n",
    "    x=goals_vs_xg.index,\n",
    "    y=goals_vs_xg.values,\n",
    "    color=goals_vs_xg.index,\n",
    "    color_discrete_map=TEAM_COLORS\n",
    ")\n",
    "\n",
    "# Apply consistent layout\n",
    "fig.update_layout(\n",
    "    create_plotly_layout(\n",
    "        title='Goal Scoring Performance vs. Expected',\n",
    "        width=900,\n",
    "        height=600\n",
    "    )\n",
    ")\n",
    "\n",
    "# Add specific customization for this plot\n",
    "fig.update_xaxes(tickangle=45)\n",
    "fig.update_yaxes(title='Goals Above/Below Expected')\n",
    "\n",
    "# Add zero line\n",
    "fig.add_hline(\n",
    "    y=0,\n",
    "    line_dash=\"dash\",\n",
    "    line_color=\"black\",\n",
    "    line_width=1\n",
    ")\n",
    "\n",
    "fig.show()"
   ]
  },
  {
   "cell_type": "markdown",
   "metadata": {},
   "source": [
    "### Home and Away Performance by Team"
   ]
  },
  {
   "cell_type": "code",
   "execution_count": 16,
   "metadata": {},
   "outputs": [
    {
     "data": {
      "application/vnd.plotly.v1+json": {
       "config": {
        "plotlyServerURL": "https://plot.ly"
       },
       "data": [
        {
         "marker": {
          "color": "rgba(58, 71, 80, 0.8)"
         },
         "name": "Home",
         "showlegend": true,
         "type": "bar",
         "x": [
          "Brentford",
          "Tottenham-Hotspur",
          "Arsenal",
          "Manchester-City",
          "Brighton-and-Hove-Albion",
          "Liverpool",
          "Fulham",
          "Bournemouth",
          "Wolverhampton-Wanderers",
          "Chelsea",
          "Aston-Villa",
          "West-Ham-United",
          "Manchester-United",
          "Nottingham-Forest",
          "Everton",
          "Newcastle-United",
          "Leicester-City",
          "Ipswich-Town",
          "Southampton",
          "Crystal-Palace"
         ],
         "xaxis": "x",
         "y": [
          3,
          2.67,
          2.4,
          2.4,
          1.83,
          1.83,
          1.8,
          1.6,
          1.5,
          1.5,
          1.4,
          1.33,
          1.17,
          1.17,
          1,
          1,
          1,
          0.8,
          0.8,
          0.5
         ],
         "yaxis": "y"
        },
        {
         "marker": {
          "color": "rgba(158, 171, 180, 0.8)"
         },
         "name": "Away",
         "showlegend": true,
         "type": "bar",
         "x": [
          "Brentford",
          "Tottenham-Hotspur",
          "Arsenal",
          "Manchester-City",
          "Brighton-and-Hove-Albion",
          "Liverpool",
          "Fulham",
          "Bournemouth",
          "Wolverhampton-Wanderers",
          "Chelsea",
          "Aston-Villa",
          "West-Ham-United",
          "Manchester-United",
          "Nottingham-Forest",
          "Everton",
          "Newcastle-United",
          "Leicester-City",
          "Ipswich-Town",
          "Southampton",
          "Crystal-Palace"
         ],
         "xaxis": "x",
         "y": [
          0.8,
          1.4,
          1,
          1.67,
          1.6,
          2,
          1.17,
          1.17,
          1.4,
          2.4,
          1.67,
          1,
          1,
          1.6,
          0.83,
          1.33,
          1.5,
          1.33,
          0.5,
          1
         ],
         "yaxis": "y"
        },
        {
         "marker": {
          "color": "rgba(58, 71, 80, 0.8)"
         },
         "name": "Home",
         "showlegend": false,
         "type": "bar",
         "x": [
          "Wolverhampton-Wanderers",
          "Brentford",
          "West-Ham-United",
          "Everton",
          "Southampton",
          "Ipswich-Town",
          "Fulham",
          "Leicester-City",
          "Chelsea",
          "Manchester-United",
          "Brighton-and-Hove-Albion",
          "Aston-Villa",
          "Manchester-City",
          "Arsenal",
          "Crystal-Palace",
          "Nottingham-Forest",
          "Tottenham-Hotspur",
          "Bournemouth",
          "Newcastle-United",
          "Liverpool"
         ],
         "xaxis": "x2",
         "y": [
          2.33,
          1.83,
          1.67,
          1.6,
          1.6,
          1.6,
          1.4,
          1.4,
          1.33,
          1.33,
          1.33,
          1.2,
          1.2,
          1.2,
          1.17,
          1,
          1,
          0.8,
          0.6,
          0.5
         ],
         "yaxis": "y2"
        },
        {
         "marker": {
          "color": "rgba(158, 171, 180, 0.8)"
         },
         "name": "Away",
         "showlegend": false,
         "type": "bar",
         "x": [
          "Wolverhampton-Wanderers",
          "Brentford",
          "West-Ham-United",
          "Everton",
          "Southampton",
          "Ipswich-Town",
          "Fulham",
          "Leicester-City",
          "Chelsea",
          "Manchester-United",
          "Brighton-and-Hove-Albion",
          "Aston-Villa",
          "Manchester-City",
          "Arsenal",
          "Crystal-Palace",
          "Nottingham-Forest",
          "Tottenham-Hotspur",
          "Bournemouth",
          "Newcastle-United",
          "Liverpool"
         ],
         "xaxis": "x2",
         "y": [
          2.6,
          2.2,
          1.8,
          1.5,
          2.17,
          2.33,
          1,
          2.33,
          1,
          0.8,
          1.4,
          1.83,
          1.17,
          1,
          1.6,
          0.8,
          1.4,
          1.83,
          1.33,
          0.6
         ],
         "yaxis": "y2"
        },
        {
         "marker": {
          "color": "rgba(58, 71, 80, 0.8)"
         },
         "name": "Home",
         "showlegend": false,
         "type": "bar",
         "x": [
          "Brentford",
          "Liverpool",
          "Manchester-City",
          "Tottenham-Hotspur",
          "Arsenal",
          "Bournemouth",
          "Fulham",
          "Newcastle-United",
          "Brighton-and-Hove-Albion",
          "Manchester-United",
          "Aston-Villa",
          "Nottingham-Forest",
          "Chelsea",
          "West-Ham-United",
          "Southampton",
          "Leicester-City",
          "Everton",
          "Crystal-Palace",
          "Wolverhampton-Wanderers",
          "Ipswich-Town"
         ],
         "xaxis": "x3",
         "y": [
          83.33,
          83.33,
          80,
          66.67,
          60,
          60,
          60,
          60,
          50,
          50,
          40,
          33.33,
          33.33,
          33.33,
          20,
          20,
          20,
          16.67,
          16.67,
          0
         ],
         "yaxis": "y3"
        },
        {
         "marker": {
          "color": "rgba(158, 171, 180, 0.8)"
         },
         "name": "Away",
         "showlegend": false,
         "type": "bar",
         "x": [
          "Brentford",
          "Liverpool",
          "Manchester-City",
          "Tottenham-Hotspur",
          "Arsenal",
          "Bournemouth",
          "Fulham",
          "Newcastle-United",
          "Brighton-and-Hove-Albion",
          "Manchester-United",
          "Aston-Villa",
          "Nottingham-Forest",
          "Chelsea",
          "West-Ham-United",
          "Southampton",
          "Leicester-City",
          "Everton",
          "Crystal-Palace",
          "Wolverhampton-Wanderers",
          "Ipswich-Town"
         ],
         "xaxis": "x3",
         "y": [
          0,
          80,
          50,
          20,
          33.33,
          16.67,
          33.33,
          33.33,
          40,
          20,
          50,
          60,
          60,
          20,
          0,
          16.67,
          16.67,
          0,
          0,
          16.67
         ],
         "yaxis": "y3"
        },
        {
         "marker": {
          "color": "rgba(58, 71, 80, 0.8)"
         },
         "name": "Home",
         "showlegend": false,
         "type": "bar",
         "x": [
          "Manchester-City",
          "Tottenham-Hotspur",
          "Liverpool",
          "Aston-Villa",
          "Southampton",
          "Arsenal",
          "Fulham",
          "Brighton-and-Hove-Albion",
          "Chelsea",
          "Leicester-City",
          "Brentford",
          "Nottingham-Forest",
          "Manchester-United",
          "West-Ham-United",
          "Ipswich-Town",
          "Crystal-Palace",
          "Wolverhampton-Wanderers",
          "Everton",
          "Bournemouth",
          "Newcastle-United"
         ],
         "xaxis": "x4",
         "y": [
          64.2,
          59.17,
          57,
          55,
          53.6,
          53.4,
          53.4,
          53,
          52.5,
          51,
          50,
          49.17,
          49,
          46.83,
          45.6,
          43.17,
          40.5,
          40.2,
          39.6,
          38.6
         ],
         "yaxis": "y4"
        },
        {
         "marker": {
          "color": "rgba(158, 171, 180, 0.8)"
         },
         "name": "Away",
         "showlegend": false,
         "type": "bar",
         "x": [
          "Manchester-City",
          "Tottenham-Hotspur",
          "Liverpool",
          "Aston-Villa",
          "Southampton",
          "Arsenal",
          "Fulham",
          "Brighton-and-Hove-Albion",
          "Chelsea",
          "Leicester-City",
          "Brentford",
          "Nottingham-Forest",
          "Manchester-United",
          "West-Ham-United",
          "Ipswich-Town",
          "Crystal-Palace",
          "Wolverhampton-Wanderers",
          "Everton",
          "Bournemouth",
          "Newcastle-United"
         ],
         "xaxis": "x4",
         "y": [
          63.67,
          64.2,
          57.4,
          47,
          59.17,
          47.5,
          53.67,
          54.8,
          56.8,
          45,
          43.6,
          33.6,
          56,
          44,
          36.83,
          48.6,
          49.4,
          38.5,
          48.17,
          57.67
         ],
         "yaxis": "y4"
        }
       ],
       "layout": {
        "annotations": [
         {
          "font": {
           "size": 16
          },
          "showarrow": false,
          "text": "Average Goals Scored",
          "x": 0.2125,
          "xanchor": "center",
          "xref": "paper",
          "y": 1,
          "yanchor": "bottom",
          "yref": "paper"
         },
         {
          "font": {
           "size": 16
          },
          "showarrow": false,
          "text": "Average Goals Conceded",
          "x": 0.7875,
          "xanchor": "center",
          "xref": "paper",
          "y": 1,
          "yanchor": "bottom",
          "yref": "paper"
         },
         {
          "font": {
           "size": 16
          },
          "showarrow": false,
          "text": "Win Percentage",
          "x": 0.2125,
          "xanchor": "center",
          "xref": "paper",
          "y": 0.375,
          "yanchor": "bottom",
          "yref": "paper"
         },
         {
          "font": {
           "size": 16
          },
          "showarrow": false,
          "text": "Average Possession",
          "x": 0.7875,
          "xanchor": "center",
          "xref": "paper",
          "y": 0.375,
          "yanchor": "bottom",
          "yref": "paper"
         }
        ],
        "barmode": "group",
        "height": 1000,
        "legend": {
         "orientation": "h",
         "x": 0.5,
         "xanchor": "center",
         "y": 1.05,
         "yanchor": "bottom"
        },
        "margin": {
         "b": 50,
         "l": 50,
         "r": 50,
         "t": 150
        },
        "paper_bgcolor": "white",
        "plot_bgcolor": "white",
        "showlegend": true,
        "template": {
         "data": {
          "bar": [
           {
            "error_x": {
             "color": "#2a3f5f"
            },
            "error_y": {
             "color": "#2a3f5f"
            },
            "marker": {
             "line": {
              "color": "#E5ECF6",
              "width": 0.5
             },
             "pattern": {
              "fillmode": "overlay",
              "size": 10,
              "solidity": 0.2
             }
            },
            "type": "bar"
           }
          ],
          "barpolar": [
           {
            "marker": {
             "line": {
              "color": "#E5ECF6",
              "width": 0.5
             },
             "pattern": {
              "fillmode": "overlay",
              "size": 10,
              "solidity": 0.2
             }
            },
            "type": "barpolar"
           }
          ],
          "carpet": [
           {
            "aaxis": {
             "endlinecolor": "#2a3f5f",
             "gridcolor": "white",
             "linecolor": "white",
             "minorgridcolor": "white",
             "startlinecolor": "#2a3f5f"
            },
            "baxis": {
             "endlinecolor": "#2a3f5f",
             "gridcolor": "white",
             "linecolor": "white",
             "minorgridcolor": "white",
             "startlinecolor": "#2a3f5f"
            },
            "type": "carpet"
           }
          ],
          "choropleth": [
           {
            "colorbar": {
             "outlinewidth": 0,
             "ticks": ""
            },
            "type": "choropleth"
           }
          ],
          "contour": [
           {
            "colorbar": {
             "outlinewidth": 0,
             "ticks": ""
            },
            "colorscale": [
             [
              0,
              "#0d0887"
             ],
             [
              0.1111111111111111,
              "#46039f"
             ],
             [
              0.2222222222222222,
              "#7201a8"
             ],
             [
              0.3333333333333333,
              "#9c179e"
             ],
             [
              0.4444444444444444,
              "#bd3786"
             ],
             [
              0.5555555555555556,
              "#d8576b"
             ],
             [
              0.6666666666666666,
              "#ed7953"
             ],
             [
              0.7777777777777778,
              "#fb9f3a"
             ],
             [
              0.8888888888888888,
              "#fdca26"
             ],
             [
              1,
              "#f0f921"
             ]
            ],
            "type": "contour"
           }
          ],
          "contourcarpet": [
           {
            "colorbar": {
             "outlinewidth": 0,
             "ticks": ""
            },
            "type": "contourcarpet"
           }
          ],
          "heatmap": [
           {
            "colorbar": {
             "outlinewidth": 0,
             "ticks": ""
            },
            "colorscale": [
             [
              0,
              "#0d0887"
             ],
             [
              0.1111111111111111,
              "#46039f"
             ],
             [
              0.2222222222222222,
              "#7201a8"
             ],
             [
              0.3333333333333333,
              "#9c179e"
             ],
             [
              0.4444444444444444,
              "#bd3786"
             ],
             [
              0.5555555555555556,
              "#d8576b"
             ],
             [
              0.6666666666666666,
              "#ed7953"
             ],
             [
              0.7777777777777778,
              "#fb9f3a"
             ],
             [
              0.8888888888888888,
              "#fdca26"
             ],
             [
              1,
              "#f0f921"
             ]
            ],
            "type": "heatmap"
           }
          ],
          "heatmapgl": [
           {
            "colorbar": {
             "outlinewidth": 0,
             "ticks": ""
            },
            "colorscale": [
             [
              0,
              "#0d0887"
             ],
             [
              0.1111111111111111,
              "#46039f"
             ],
             [
              0.2222222222222222,
              "#7201a8"
             ],
             [
              0.3333333333333333,
              "#9c179e"
             ],
             [
              0.4444444444444444,
              "#bd3786"
             ],
             [
              0.5555555555555556,
              "#d8576b"
             ],
             [
              0.6666666666666666,
              "#ed7953"
             ],
             [
              0.7777777777777778,
              "#fb9f3a"
             ],
             [
              0.8888888888888888,
              "#fdca26"
             ],
             [
              1,
              "#f0f921"
             ]
            ],
            "type": "heatmapgl"
           }
          ],
          "histogram": [
           {
            "marker": {
             "pattern": {
              "fillmode": "overlay",
              "size": 10,
              "solidity": 0.2
             }
            },
            "type": "histogram"
           }
          ],
          "histogram2d": [
           {
            "colorbar": {
             "outlinewidth": 0,
             "ticks": ""
            },
            "colorscale": [
             [
              0,
              "#0d0887"
             ],
             [
              0.1111111111111111,
              "#46039f"
             ],
             [
              0.2222222222222222,
              "#7201a8"
             ],
             [
              0.3333333333333333,
              "#9c179e"
             ],
             [
              0.4444444444444444,
              "#bd3786"
             ],
             [
              0.5555555555555556,
              "#d8576b"
             ],
             [
              0.6666666666666666,
              "#ed7953"
             ],
             [
              0.7777777777777778,
              "#fb9f3a"
             ],
             [
              0.8888888888888888,
              "#fdca26"
             ],
             [
              1,
              "#f0f921"
             ]
            ],
            "type": "histogram2d"
           }
          ],
          "histogram2dcontour": [
           {
            "colorbar": {
             "outlinewidth": 0,
             "ticks": ""
            },
            "colorscale": [
             [
              0,
              "#0d0887"
             ],
             [
              0.1111111111111111,
              "#46039f"
             ],
             [
              0.2222222222222222,
              "#7201a8"
             ],
             [
              0.3333333333333333,
              "#9c179e"
             ],
             [
              0.4444444444444444,
              "#bd3786"
             ],
             [
              0.5555555555555556,
              "#d8576b"
             ],
             [
              0.6666666666666666,
              "#ed7953"
             ],
             [
              0.7777777777777778,
              "#fb9f3a"
             ],
             [
              0.8888888888888888,
              "#fdca26"
             ],
             [
              1,
              "#f0f921"
             ]
            ],
            "type": "histogram2dcontour"
           }
          ],
          "mesh3d": [
           {
            "colorbar": {
             "outlinewidth": 0,
             "ticks": ""
            },
            "type": "mesh3d"
           }
          ],
          "parcoords": [
           {
            "line": {
             "colorbar": {
              "outlinewidth": 0,
              "ticks": ""
             }
            },
            "type": "parcoords"
           }
          ],
          "pie": [
           {
            "automargin": true,
            "type": "pie"
           }
          ],
          "scatter": [
           {
            "fillpattern": {
             "fillmode": "overlay",
             "size": 10,
             "solidity": 0.2
            },
            "type": "scatter"
           }
          ],
          "scatter3d": [
           {
            "line": {
             "colorbar": {
              "outlinewidth": 0,
              "ticks": ""
             }
            },
            "marker": {
             "colorbar": {
              "outlinewidth": 0,
              "ticks": ""
             }
            },
            "type": "scatter3d"
           }
          ],
          "scattercarpet": [
           {
            "marker": {
             "colorbar": {
              "outlinewidth": 0,
              "ticks": ""
             }
            },
            "type": "scattercarpet"
           }
          ],
          "scattergeo": [
           {
            "marker": {
             "colorbar": {
              "outlinewidth": 0,
              "ticks": ""
             }
            },
            "type": "scattergeo"
           }
          ],
          "scattergl": [
           {
            "marker": {
             "colorbar": {
              "outlinewidth": 0,
              "ticks": ""
             }
            },
            "type": "scattergl"
           }
          ],
          "scattermapbox": [
           {
            "marker": {
             "colorbar": {
              "outlinewidth": 0,
              "ticks": ""
             }
            },
            "type": "scattermapbox"
           }
          ],
          "scatterpolar": [
           {
            "marker": {
             "colorbar": {
              "outlinewidth": 0,
              "ticks": ""
             }
            },
            "type": "scatterpolar"
           }
          ],
          "scatterpolargl": [
           {
            "marker": {
             "colorbar": {
              "outlinewidth": 0,
              "ticks": ""
             }
            },
            "type": "scatterpolargl"
           }
          ],
          "scatterternary": [
           {
            "marker": {
             "colorbar": {
              "outlinewidth": 0,
              "ticks": ""
             }
            },
            "type": "scatterternary"
           }
          ],
          "surface": [
           {
            "colorbar": {
             "outlinewidth": 0,
             "ticks": ""
            },
            "colorscale": [
             [
              0,
              "#0d0887"
             ],
             [
              0.1111111111111111,
              "#46039f"
             ],
             [
              0.2222222222222222,
              "#7201a8"
             ],
             [
              0.3333333333333333,
              "#9c179e"
             ],
             [
              0.4444444444444444,
              "#bd3786"
             ],
             [
              0.5555555555555556,
              "#d8576b"
             ],
             [
              0.6666666666666666,
              "#ed7953"
             ],
             [
              0.7777777777777778,
              "#fb9f3a"
             ],
             [
              0.8888888888888888,
              "#fdca26"
             ],
             [
              1,
              "#f0f921"
             ]
            ],
            "type": "surface"
           }
          ],
          "table": [
           {
            "cells": {
             "fill": {
              "color": "#EBF0F8"
             },
             "line": {
              "color": "white"
             }
            },
            "header": {
             "fill": {
              "color": "#C8D4E3"
             },
             "line": {
              "color": "white"
             }
            },
            "type": "table"
           }
          ]
         },
         "layout": {
          "annotationdefaults": {
           "arrowcolor": "#2a3f5f",
           "arrowhead": 0,
           "arrowwidth": 1
          },
          "autotypenumbers": "strict",
          "coloraxis": {
           "colorbar": {
            "outlinewidth": 0,
            "ticks": ""
           }
          },
          "colorscale": {
           "diverging": [
            [
             0,
             "#8e0152"
            ],
            [
             0.1,
             "#c51b7d"
            ],
            [
             0.2,
             "#de77ae"
            ],
            [
             0.3,
             "#f1b6da"
            ],
            [
             0.4,
             "#fde0ef"
            ],
            [
             0.5,
             "#f7f7f7"
            ],
            [
             0.6,
             "#e6f5d0"
            ],
            [
             0.7,
             "#b8e186"
            ],
            [
             0.8,
             "#7fbc41"
            ],
            [
             0.9,
             "#4d9221"
            ],
            [
             1,
             "#276419"
            ]
           ],
           "sequential": [
            [
             0,
             "#0d0887"
            ],
            [
             0.1111111111111111,
             "#46039f"
            ],
            [
             0.2222222222222222,
             "#7201a8"
            ],
            [
             0.3333333333333333,
             "#9c179e"
            ],
            [
             0.4444444444444444,
             "#bd3786"
            ],
            [
             0.5555555555555556,
             "#d8576b"
            ],
            [
             0.6666666666666666,
             "#ed7953"
            ],
            [
             0.7777777777777778,
             "#fb9f3a"
            ],
            [
             0.8888888888888888,
             "#fdca26"
            ],
            [
             1,
             "#f0f921"
            ]
           ],
           "sequentialminus": [
            [
             0,
             "#0d0887"
            ],
            [
             0.1111111111111111,
             "#46039f"
            ],
            [
             0.2222222222222222,
             "#7201a8"
            ],
            [
             0.3333333333333333,
             "#9c179e"
            ],
            [
             0.4444444444444444,
             "#bd3786"
            ],
            [
             0.5555555555555556,
             "#d8576b"
            ],
            [
             0.6666666666666666,
             "#ed7953"
            ],
            [
             0.7777777777777778,
             "#fb9f3a"
            ],
            [
             0.8888888888888888,
             "#fdca26"
            ],
            [
             1,
             "#f0f921"
            ]
           ]
          },
          "colorway": [
           "#636efa",
           "#EF553B",
           "#00cc96",
           "#ab63fa",
           "#FFA15A",
           "#19d3f3",
           "#FF6692",
           "#B6E880",
           "#FF97FF",
           "#FECB52"
          ],
          "font": {
           "color": "#2a3f5f"
          },
          "geo": {
           "bgcolor": "white",
           "lakecolor": "white",
           "landcolor": "#E5ECF6",
           "showlakes": true,
           "showland": true,
           "subunitcolor": "white"
          },
          "hoverlabel": {
           "align": "left"
          },
          "hovermode": "closest",
          "mapbox": {
           "style": "light"
          },
          "paper_bgcolor": "white",
          "plot_bgcolor": "#E5ECF6",
          "polar": {
           "angularaxis": {
            "gridcolor": "white",
            "linecolor": "white",
            "ticks": ""
           },
           "bgcolor": "#E5ECF6",
           "radialaxis": {
            "gridcolor": "white",
            "linecolor": "white",
            "ticks": ""
           }
          },
          "scene": {
           "xaxis": {
            "backgroundcolor": "#E5ECF6",
            "gridcolor": "white",
            "gridwidth": 2,
            "linecolor": "white",
            "showbackground": true,
            "ticks": "",
            "zerolinecolor": "white"
           },
           "yaxis": {
            "backgroundcolor": "#E5ECF6",
            "gridcolor": "white",
            "gridwidth": 2,
            "linecolor": "white",
            "showbackground": true,
            "ticks": "",
            "zerolinecolor": "white"
           },
           "zaxis": {
            "backgroundcolor": "#E5ECF6",
            "gridcolor": "white",
            "gridwidth": 2,
            "linecolor": "white",
            "showbackground": true,
            "ticks": "",
            "zerolinecolor": "white"
           }
          },
          "shapedefaults": {
           "line": {
            "color": "#2a3f5f"
           }
          },
          "ternary": {
           "aaxis": {
            "gridcolor": "white",
            "linecolor": "white",
            "ticks": ""
           },
           "baxis": {
            "gridcolor": "white",
            "linecolor": "white",
            "ticks": ""
           },
           "bgcolor": "#E5ECF6",
           "caxis": {
            "gridcolor": "white",
            "linecolor": "white",
            "ticks": ""
           }
          },
          "title": {
           "x": 0.05
          },
          "xaxis": {
           "automargin": true,
           "gridcolor": "white",
           "linecolor": "white",
           "ticks": "",
           "title": {
            "standoff": 15
           },
           "zerolinecolor": "white",
           "zerolinewidth": 2
          },
          "yaxis": {
           "automargin": true,
           "gridcolor": "white",
           "linecolor": "white",
           "ticks": "",
           "title": {
            "standoff": 15
           },
           "zerolinecolor": "white",
           "zerolinewidth": 2
          }
         }
        },
        "title": {
         "font": {
          "color": "#2F2F2F",
          "family": "Arial Black",
          "size": 24
         },
         "text": "Home vs Away Performance by Team",
         "x": 0.5,
         "xanchor": "center",
         "y": 0.95,
         "yanchor": "top"
        },
        "width": 1200,
        "xaxis": {
         "anchor": "y",
         "domain": [
          0,
          0.425
         ],
         "gridcolor": "lightgrey",
         "gridwidth": 0.5,
         "tickangle": 45,
         "tickfont": {
          "color": "#2F2F2F",
          "family": "Arial",
          "size": 12
         },
         "title": {}
        },
        "xaxis2": {
         "anchor": "y2",
         "domain": [
          0.575,
          1
         ],
         "tickangle": 45
        },
        "xaxis3": {
         "anchor": "y3",
         "domain": [
          0,
          0.425
         ],
         "tickangle": 45
        },
        "xaxis4": {
         "anchor": "y4",
         "domain": [
          0.575,
          1
         ],
         "tickangle": 45
        },
        "yaxis": {
         "anchor": "x",
         "domain": [
          0.625,
          1
         ],
         "gridcolor": "lightgrey",
         "gridwidth": 0.5,
         "tickfont": {
          "color": "#2F2F2F",
          "family": "Arial",
          "size": 12
         },
         "title": {
          "text": "Goals per Game"
         }
        },
        "yaxis2": {
         "anchor": "x2",
         "domain": [
          0.625,
          1
         ],
         "title": {
          "text": "Goals per Game"
         }
        },
        "yaxis3": {
         "anchor": "x3",
         "domain": [
          0,
          0.375
         ],
         "title": {
          "text": "Win Percentage"
         }
        },
        "yaxis4": {
         "anchor": "x4",
         "domain": [
          0,
          0.375
         ],
         "title": {
          "text": "Possession %"
         }
        }
       }
      }
     },
     "metadata": {},
     "output_type": "display_data"
    }
   ],
   "source": [
    "# Calculate home and away performance metrics\n",
    "home_away_stats = df.groupby(['team', 'venue']).agg({\n",
    "    'goals_for': 'mean',\n",
    "    'goals_against': 'mean',\n",
    "    'possession': 'mean',\n",
    "    'result': lambda x: (x == 'W').mean() * 100  # Win percentage\n",
    "}).round(2)\n",
    "\n",
    "# Reset index to make 'team' and 'venue' regular columns\n",
    "home_away_stats = home_away_stats.reset_index()\n",
    "\n",
    "# Create subplots for different metrics with more spacing\n",
    "fig = make_subplots(\n",
    "    rows=2, cols=2,\n",
    "    subplot_titles=(\n",
    "        'Average Goals Scored',\n",
    "        'Average Goals Conceded',\n",
    "        'Win Percentage',\n",
    "        'Average Possession'\n",
    "    ),\n",
    "    vertical_spacing=0.25,  # Increased spacing\n",
    "    horizontal_spacing=0.15\n",
    ")\n",
    "\n",
    "# Helper function to add bars for both home and away\n",
    "def add_home_away_bars(fig, metric, row, col):\n",
    "    home_data = home_away_stats[home_away_stats['venue'] == 'Home']\n",
    "    away_data = home_away_stats[home_away_stats['venue'] == 'Away']\n",
    "    \n",
    "    # Sort teams by home performance\n",
    "    teams_order = home_data.sort_values(metric, ascending=False)['team']\n",
    "    \n",
    "    # Add home bars\n",
    "    fig.add_trace(\n",
    "        go.Bar(\n",
    "            name='Home',\n",
    "            x=teams_order,\n",
    "            y=home_data.set_index('team').reindex(teams_order)[metric],\n",
    "            marker_color='rgba(58, 71, 80, 0.8)',\n",
    "            showlegend=(row == 1 and col == 1)  # Only show legend for first subplot\n",
    "        ),\n",
    "        row=row, col=col\n",
    "    )\n",
    "    \n",
    "    # Add away bars\n",
    "    fig.add_trace(\n",
    "        go.Bar(\n",
    "            name='Away',\n",
    "            x=teams_order,\n",
    "            y=away_data.set_index('team').reindex(teams_order)[metric],\n",
    "            marker_color='rgba(158, 171, 180, 0.8)',\n",
    "            showlegend=(row == 1 and col == 1)  # Only show legend for first subplot\n",
    "        ),\n",
    "        row=row, col=col\n",
    "    )\n",
    "\n",
    "# Add bars for each metric\n",
    "add_home_away_bars(fig, 'goals_for', 1, 1)\n",
    "add_home_away_bars(fig, 'goals_against', 1, 2)\n",
    "add_home_away_bars(fig, 'result', 2, 1)\n",
    "add_home_away_bars(fig, 'possession', 2, 2)\n",
    "\n",
    "# Update layout\n",
    "fig.update_layout(\n",
    "    create_plotly_layout(\n",
    "        title='Home vs Away Performance by Team',\n",
    "        width=1200,\n",
    "        height=1000\n",
    "    ),\n",
    "    showlegend=True,\n",
    "    barmode='group',\n",
    "    # Adjust margins to give more space at the top\n",
    "    margin=dict(\n",
    "        t=150,  # Increased top margin (was 100)\n",
    "        b=50,\n",
    "        l=50,\n",
    "        r=50\n",
    "    ),\n",
    "    # Adjust legend position\n",
    "    legend=dict(\n",
    "        orientation=\"h\",\n",
    "        yanchor=\"bottom\",\n",
    "        y=1.05,  # Moved up (was 1.02)\n",
    "        xanchor=\"center\",\n",
    "        x=0.5\n",
    "    ),\n",
    "    # Adjust title position\n",
    "    title=dict(\n",
    "        y=0.95,  # Adjust if needed\n",
    "        x=0.5,\n",
    "        xanchor='center',\n",
    "        yanchor='top'\n",
    "    )\n",
    ")\n",
    "\n",
    "# Update axes\n",
    "for i in range(1, 3):\n",
    "    for j in range(1, 3):\n",
    "        fig.update_xaxes(tickangle=45, row=i, col=j)\n",
    "\n",
    "# Update y-axis titles\n",
    "fig.update_yaxes(title_text='Goals per Game', row=1, col=1)\n",
    "fig.update_yaxes(title_text='Goals per Game', row=1, col=2)\n",
    "fig.update_yaxes(title_text='Win Percentage', row=2, col=1)\n",
    "fig.update_yaxes(title_text='Possession %', row=2, col=2)\n",
    "\n",
    "fig.show()\n"
   ]
  },
  {
   "cell_type": "code",
   "execution_count": null,
   "metadata": {},
   "outputs": [],
   "source": []
  }
 ],
 "metadata": {
  "kernelspec": {
   "display_name": "Python 3",
   "language": "python",
   "name": "python3"
  },
  "language_info": {
   "codemirror_mode": {
    "name": "ipython",
    "version": 3
   },
   "file_extension": ".py",
   "mimetype": "text/x-python",
   "name": "python",
   "nbconvert_exporter": "python",
   "pygments_lexer": "ipython3",
   "version": "3.12.4"
  }
 },
 "nbformat": 4,
 "nbformat_minor": 2
}
